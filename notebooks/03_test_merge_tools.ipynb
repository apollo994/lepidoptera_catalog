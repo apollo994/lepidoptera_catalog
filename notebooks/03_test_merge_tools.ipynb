{
 "cells": [
  {
   "cell_type": "markdown",
   "id": "1b52967b-509b-4a60-a478-6bcefa4b40e7",
   "metadata": {},
   "source": [
    "This notebook is to generate a fake gff file to understand the best strategy to merge two annotations\n",
    "\n",
    "https://github.com/The-Sequence-Ontology/Specifications/blob/master/gff3.md"
   ]
  },
  {
   "cell_type": "code",
   "execution_count": 18,
   "id": "e20b09dc-62a8-4f37-b03a-ab172f57b3d8",
   "metadata": {},
   "outputs": [],
   "source": [
    "import pyranges as pr\n",
    "import numpy as np\n",
    "import random\n",
    "import pandas as pd"
   ]
  },
  {
   "cell_type": "code",
   "execution_count": 2,
   "id": "af99b87b-60cb-4ccd-99d8-547af3a6d328",
   "metadata": {},
   "outputs": [
    {
     "name": "stdout",
     "output_type": "stream",
     "text": [
      "Chr1\ttest\tgene\t100\t1100\t.\t+\t.\tgene_id=gene1;ID=gene1\n",
      "Chr1\ttest\ttranscript\t100\t1100\t.\t+\t.\tgene_id=gene1;ID=transcript1;transcript_id=transcript1;Parent=gene1\n",
      "Chr1\ttest\texon\t100\t200\t.\t+\t.\tgene_id=gene1;ID=exon1;transcript_id=transcript1;Parent=transcript1\n",
      "Chr1\ttest\texon\t1000\t1100\t.\t+\t.\tgene_id=gene1;ID=exon2;transcript_id=transcript1;Parent=transcript1\n",
      "Chr1\ttest\ttranscript\t500\t1100\t.\t+\t.\tgene_id=gene1;ID=transcript2;transcript_id=transcript2;Parent=gene1\n",
      "Chr1\ttest\texon\t500\t600\t.\t+\t.\tgene_id=gene1;ID=exon3;transcript_id=transcript2;Parent=transcript2\n",
      "Chr1\ttest\texon\t1000\t1100\t.\t+\t.\tgene_id=gene1;ID=exon4;transcript_id=transcript2;Parent=transcript2"
     ]
    }
   ],
   "source": [
    "! cat ../data/longread_models/test_merge/test1.gff"
   ]
  },
  {
   "cell_type": "code",
   "execution_count": 3,
   "id": "ef20a27a-7672-4bd6-9081-37784fbc571a",
   "metadata": {},
   "outputs": [
    {
     "name": "stderr",
     "output_type": "stream",
     "text": [
      "/opt/homebrew/Caskroom/miniconda/base/lib/python3.12/site-packages/pyranges/methods/init.py:45: FutureWarning: The default of observed=False is deprecated and will be changed to True in a future version of pandas. Pass observed=False to retain current behavior or observed=True to adopt the future default and silence this warning.\n",
      "  return {k: v for k, v in df.groupby(grpby_key)}\n"
     ]
    }
   ],
   "source": [
    "gr = pr.read_gff3('../data/longread_models/test_merge/test1.gff')"
   ]
  },
  {
   "cell_type": "code",
   "execution_count": 4,
   "id": "5312ded6-c236-4b93-bd3a-63589d359341",
   "metadata": {},
   "outputs": [
    {
     "name": "stderr",
     "output_type": "stream",
     "text": [
      "/opt/homebrew/Caskroom/miniconda/base/lib/python3.12/site-packages/pyranges/methods/init.py:45: FutureWarning: The default of observed=False is deprecated and will be changed to True in a future version of pandas. Pass observed=False to retain current behavior or observed=True to adopt the future default and silence this warning.\n",
      "  return {k: v for k, v in df.groupby(grpby_key)}\n"
     ]
    }
   ],
   "source": [
    "df = gr.df\n",
    "df['tissue'] = 'liver'\n",
    "gr_tag = pr.PyRanges(df)\n",
    "gr_tag.to_gff3('../data/longread_models/test_merge/test1_tag.gff')"
   ]
  },
  {
   "cell_type": "markdown",
   "id": "0825fad1-b914-4361-9d85-b7366452c1ec",
   "metadata": {},
   "source": [
    "### A second gff to merge "
   ]
  },
  {
   "cell_type": "code",
   "execution_count": 5,
   "id": "5608c4c3-14ee-4750-8487-1b06cad00fd8",
   "metadata": {},
   "outputs": [
    {
     "name": "stdout",
     "output_type": "stream",
     "text": [
      "Chr1\ttest\tgene\t100\t1100\t.\t+\t.\tgene_id=gene2;ID=gene2;tissue=blood\n",
      "Chr1\ttest\ttranscript\t100\t1100\t.\t+\t.\tgene_id=gene2;ID=transcript1;transcript_id=transcript1;Parent=gene2;tissue=blood\n",
      "Chr1\ttest\texon\t100\t200\t.\t+\t.\tgene_id=gene2;ID=exon1;transcript_id=transcript1;Parent=transcript1;tissue=blood\n",
      "Chr1\ttest\texon\t900\t1100\t.\t+\t.\tgene_id=gene2;ID=exon2;transcript_id=transcript1;Parent=transcript1;tissue=blood\n",
      "Chr1\ttest\ttranscript\t500\t600\t.\t+\t.\tgene_id=gene2;ID=transcript2;transcript_id=transcript2;Parent=gene2;tissue=blood\n",
      "Chr1\ttest\texon\t500\t600\t.\t+\t.\tgene_id=gene2;ID=exon3;transcript_id=transcript2;Parent=transcript2;tissue=blood\n",
      "Chr1\ttest\ttranscript\t100\t1100\t.\t+\t.\tgene_id=gene2;ID=transcript3;transcript_id=transcript3;Parent=gene2;tissue=blood\n",
      "Chr1\ttest\texon\t100\t200\t.\t+\t.\tgene_id=gene2;ID=exon4;transcript_id=transcript3;Parent=transcript3;tissue=blood\n",
      "Chr1\ttest\texon\t500\t600\t.\t+\t.\tgene_id=gene2;ID=exon5;transcript_id=transcript3;Parent=transcript3;tissue=blood\n",
      "Chr1\ttest\texon\t1000\t1100\t.\t+\t.\tgene_id=gene2;ID=exon6;transcript_id=transcript3;Parent=transcript3;tissue=blood\n",
      "Chr1\ttest\ttranscript\t100\t1100\t.\t+\t.\tgene_id=gene2;ID=transcript4;transcript_id=transcript4;Parent=gene2;tissue=blood\n",
      "Chr1\ttest\texon\t100\t200\t.\t+\t.\tgene_id=gene2;ID=exon7;transcript_id=transcript4;Parent=transcript4;tissue=blood\n",
      "Chr1\ttest\texon\t1000\t1100\t.\t+\t.\tgene_id=gene2;ID=exon8;transcript_id=transcript4;Parent=transcript4;tissue=blood"
     ]
    }
   ],
   "source": [
    "! cat ../data/longread_models/test_merge/test2_tag.gff"
   ]
  },
  {
   "cell_type": "markdown",
   "id": "7235f04b-1953-418d-8ba2-fa26516fdf96",
   "metadata": {},
   "source": [
    "Diffs test 1 and 2\n",
    "- same gene but different names\n",
    "- transcript1 is has a longer second exon\n",
    "- transcript2 contains only one exon and it shares it with transcript 2 of test1\n",
    "- transcript3 combines all exons in test1\n",
    "- transcript4 same as trnascript1 of test1  \n",
    "- tissue is different\n",
    "\n",
    "the two gff were merged with:\n",
    "`agat_sp_merge_annotations.pl --gff test1_tag.gff --gff test2_tag.gff -o test12_merged.gff`"
   ]
  },
  {
   "cell_type": "code",
   "execution_count": 6,
   "id": "486a9852-7230-4d9d-a5dc-95ef2e851824",
   "metadata": {},
   "outputs": [
    {
     "name": "stdout",
     "output_type": "stream",
     "text": [
      "##gff-version 3\n",
      "Chr1\ttest\tgene\t100\t1100\t.\t+\t.\tID=gene1;gene_id=gene1,gene2;tissue=liver,blood\n",
      "Chr1\ttest\ttranscript\t500\t600\t.\t+\t.\tID=IDmodified-transcript-2;Parent=gene1;gene_id=gene2;tissue=blood;transcript_id=transcript2\n",
      "Chr1\ttest\texon\t500\t600\t.\t+\t.\tID=IDmodified-exon-3;Parent=IDmodified-transcript-2;gene_id=gene2;tissue=blood;transcript_id=transcript2\n",
      "Chr1\ttest\ttranscript\t100\t1100\t.\t+\t.\tID=IDmodified-transcript-1;Parent=gene1;gene_id=gene2;tissue=blood;transcript_id=transcript1\n",
      "Chr1\ttest\texon\t100\t200\t.\t+\t.\tID=IDmodified-exon-1;Parent=IDmodified-transcript-1;gene_id=gene2;tissue=blood;transcript_id=transcript1\n",
      "Chr1\ttest\texon\t900\t1100\t.\t+\t.\tID=IDmodified-exon-2;Parent=IDmodified-transcript-1;gene_id=gene2;tissue=blood;transcript_id=transcript1\n",
      "Chr1\ttest\ttranscript\t100\t1100\t.\t+\t.\tID=transcript1;Parent=gene1;gene_id=gene1;merged_ID=transcript4;merged_Parent=gene2;merged_gene_id=gene2;merged_tissue=blood;merged_transcript_id=transcript4;tissue=liver;transcript_id=transcript1\n",
      "Chr1\ttest\texon\t100\t200\t.\t+\t.\tID=exon1;Parent=transcript1;gene_id=gene1;tissue=liver;transcript_id=transcript1\n",
      "Chr1\ttest\texon\t1000\t1100\t.\t+\t.\tID=exon2;Parent=transcript1;gene_id=gene1;tissue=liver;transcript_id=transcript1\n",
      "Chr1\ttest\ttranscript\t100\t1100\t.\t+\t.\tID=transcript3;Parent=gene1;gene_id=gene2;tissue=blood;transcript_id=transcript3\n",
      "Chr1\ttest\texon\t100\t200\t.\t+\t.\tID=IDmodified-exon-4;Parent=transcript3;gene_id=gene2;tissue=blood;transcript_id=transcript3\n",
      "Chr1\ttest\texon\t500\t600\t.\t+\t.\tID=exon5;Parent=transcript3;gene_id=gene2;tissue=blood;transcript_id=transcript3\n",
      "Chr1\ttest\texon\t1000\t1100\t.\t+\t.\tID=exon6;Parent=transcript3;gene_id=gene2;tissue=blood;transcript_id=transcript3\n",
      "Chr1\ttest\ttranscript\t500\t1100\t.\t+\t.\tID=transcript2;Parent=gene1;gene_id=gene1;tissue=liver;transcript_id=transcript2\n",
      "Chr1\ttest\texon\t500\t600\t.\t+\t.\tID=exon3;Parent=transcript2;gene_id=gene1;tissue=liver;transcript_id=transcript2\n",
      "Chr1\ttest\texon\t1000\t1100\t.\t+\t.\tID=exon4;Parent=transcript2;gene_id=gene1;tissue=liver;transcript_id=transcript2\n"
     ]
    }
   ],
   "source": [
    "! cat ../data/longread_models/test_merge/test12_merged.gff"
   ]
  },
  {
   "cell_type": "markdown",
   "id": "faead782-1cd3-41bb-bd85-c53e230bc27e",
   "metadata": {},
   "source": [
    "### crete a fake reference to check on IGV"
   ]
  },
  {
   "cell_type": "code",
   "execution_count": 8,
   "id": "d2ad84e5-9cd7-4b71-b4e4-363c588d4bd6",
   "metadata": {},
   "outputs": [],
   "source": [
    "def generate_random_dna_sequence(length):\n",
    "    \"\"\"Generate a random DNA sequence of a given length.\"\"\"\n",
    "    return ''.join(random.choices('ATCG', k=length))"
   ]
  },
  {
   "cell_type": "code",
   "execution_count": 9,
   "id": "8aeeeea2-2555-480d-8c87-1b255469400b",
   "metadata": {},
   "outputs": [],
   "source": [
    "def write_fasta(filename, sequence, header=\"random_sequence\"):\n",
    "    \"\"\"Write the DNA sequence to a FASTA file.\"\"\"\n",
    "    with open(filename, 'w') as file:\n",
    "        file.write(f\">{header}\\n\")\n",
    "        # Split the sequence into lines of up to 80 characters\n",
    "        for i in range(0, len(sequence), 80):\n",
    "            file.write(sequence[i:i+80] + '\\n')"
   ]
  },
  {
   "cell_type": "code",
   "execution_count": 10,
   "id": "945a7a4b-4dbf-4ed2-90c2-c99c1d06bcd6",
   "metadata": {},
   "outputs": [],
   "source": [
    "# Parameters\n",
    "sequence_length = 2000\n",
    "fasta_filename = '../data/longread_models/test_merge/sample_reference.fa'\n",
    "\n",
    "# Generate the sequence\n",
    "dna_sequence = generate_random_dna_sequence(sequence_length)\n",
    "\n",
    "# Write to FASTA file\n",
    "write_fasta(fasta_filename, dna_sequence, header='Chr1')"
   ]
  },
  {
   "cell_type": "markdown",
   "id": "8973c237-f6d5-44a2-8e57-100cf23930dc",
   "metadata": {},
   "source": [
    "### Omogenise names and keep source \n",
    "`agat_sp_manage_IDs.pl --type_dependent --gff test12_merged.gff -o test12_merged_fixedID.gff`"
   ]
  },
  {
   "cell_type": "code",
   "execution_count": 11,
   "id": "1db82fec-516f-4b8f-b903-d292da9b41bd",
   "metadata": {},
   "outputs": [
    {
     "name": "stdout",
     "output_type": "stream",
     "text": [
      "##gff-version 3\n",
      "Chr1\ttest\tgene\t100\t1100\t.\t+\t.\tID=gene-1;gene_id=gene1,gene2;tissue=liver,blood\n",
      "Chr1\ttest\ttranscript\t500\t600\t.\t+\t.\tID=transcript-1;Parent=gene-1;gene_id=gene2;tissue=blood;transcript_id=transcript2\n",
      "Chr1\ttest\texon\t500\t600\t.\t+\t.\tID=exon-1;Parent=transcript-1;gene_id=gene2;tissue=blood;transcript_id=transcript2\n",
      "Chr1\ttest\ttranscript\t100\t1100\t.\t+\t.\tID=transcript-2;Parent=gene-1;gene_id=gene2;tissue=blood;transcript_id=transcript1\n",
      "Chr1\ttest\texon\t100\t200\t.\t+\t.\tID=exon-2;Parent=transcript-2;gene_id=gene2;tissue=blood;transcript_id=transcript1\n",
      "Chr1\ttest\texon\t900\t1100\t.\t+\t.\tID=exon-3;Parent=transcript-2;gene_id=gene2;tissue=blood;transcript_id=transcript1\n",
      "Chr1\ttest\ttranscript\t100\t1100\t.\t+\t.\tID=transcript-3;Parent=gene-1;gene_id=gene1;merged_ID=transcript4;merged_Parent=gene2;merged_gene_id=gene2;merged_tissue=blood;merged_transcript_id=transcript4;tissue=liver;transcript_id=transcript1\n",
      "Chr1\ttest\texon\t100\t200\t.\t+\t.\tID=exon-4;Parent=transcript-3;gene_id=gene1;tissue=liver;transcript_id=transcript1\n",
      "Chr1\ttest\texon\t1000\t1100\t.\t+\t.\tID=exon-5;Parent=transcript-3;gene_id=gene1;tissue=liver;transcript_id=transcript1\n",
      "Chr1\ttest\ttranscript\t100\t1100\t.\t+\t.\tID=transcript-4;Parent=gene-1;gene_id=gene2;tissue=blood;transcript_id=transcript3\n",
      "Chr1\ttest\texon\t100\t200\t.\t+\t.\tID=exon-6;Parent=transcript-4;gene_id=gene2;tissue=blood;transcript_id=transcript3\n",
      "Chr1\ttest\texon\t500\t600\t.\t+\t.\tID=exon-7;Parent=transcript-4;gene_id=gene2;tissue=blood;transcript_id=transcript3\n",
      "Chr1\ttest\texon\t1000\t1100\t.\t+\t.\tID=exon-8;Parent=transcript-4;gene_id=gene2;tissue=blood;transcript_id=transcript3\n",
      "Chr1\ttest\ttranscript\t500\t1100\t.\t+\t.\tID=transcript-5;Parent=gene-1;gene_id=gene1;tissue=liver;transcript_id=transcript2\n",
      "Chr1\ttest\texon\t500\t600\t.\t+\t.\tID=exon-9;Parent=transcript-5;gene_id=gene1;tissue=liver;transcript_id=transcript2\n",
      "Chr1\ttest\texon\t1000\t1100\t.\t+\t.\tID=exon-10;Parent=transcript-5;gene_id=gene1;tissue=liver;transcript_id=transcript2\n"
     ]
    }
   ],
   "source": [
    "! cat ../data/longread_models/test_merge/test12_merged_fixedID.gff"
   ]
  },
  {
   "cell_type": "code",
   "execution_count": 21,
   "id": "fa65765d-f4a3-4a31-ade2-2303fbec56e8",
   "metadata": {},
   "outputs": [
    {
     "name": "stderr",
     "output_type": "stream",
     "text": [
      "/opt/homebrew/Caskroom/miniconda/base/lib/python3.12/site-packages/pyranges/methods/init.py:45: FutureWarning: The default of observed=False is deprecated and will be changed to True in a future version of pandas. Pass observed=False to retain current behavior or observed=True to adopt the future default and silence this warning.\n",
      "  return {k: v for k, v in df.groupby(grpby_key)}\n"
     ]
    }
   ],
   "source": [
    "merged_fixedID = pr.read_gff3('../data/longread_models/test_merge/test12_merged_fixedID.gff')\n",
    "merged_fixedID_df = merged_fixedID.df"
   ]
  },
  {
   "cell_type": "code",
   "execution_count": 22,
   "id": "003852d9-f810-4f7c-890c-50017c6c675e",
   "metadata": {},
   "outputs": [],
   "source": [
    "def get_set(x):\n",
    "    \n",
    "    \"\"\"get a set of unique elements from string and ignores whitespaces\"\"\"\n",
    "    if pd.isna(x):\n",
    "        return np.nan\n",
    "    \n",
    "    elements = x.split(',')\n",
    "    final_list = list(filter(lambda s: s.strip(), elements))\n",
    "    final_string = ','.join(final_list)            \n",
    "    \n",
    "    return final_string\n",
    "    "
   ]
  },
  {
   "cell_type": "code",
   "execution_count": 23,
   "id": "3ba7f90c-d438-4c24-9c99-e98a11752e64",
   "metadata": {},
   "outputs": [],
   "source": [
    "def merge_cols(df, merge_into, merge_from):\n",
    "    \n",
    "    \"\"\"retunrs a copy of df where \"merge_from\" column's elements are merged into \"merge_into\" \"\"\"\n",
    "    \"\"\"the into colums is removed and from column is substitued \"\"\"\n",
    "    \n",
    "    local_df = df.copy()\n",
    "    c = local_df[merge_into]+','+local_df[merge_from].fillna('')\n",
    "    local_df[merge_into] = c.map(get_set)\n",
    "    local_df = local_df.drop(merge_from, axis=1)\n",
    "\n",
    "    return local_df   \n"
   ]
  },
  {
   "cell_type": "code",
   "execution_count": 24,
   "id": "2e643d52-8e7f-4a1f-b542-81bcc1d41518",
   "metadata": {},
   "outputs": [],
   "source": [
    "def transfer_to_child(df, parent, tag_to_transfer):\n",
    "    \n",
    "    \"\"\"This returns a df where a tag to transfer is copied from the parent feature to all child features.\"\"\"\n",
    "    \"\"\"It is useful when merging GFF and not all tags are properly combined.\"\"\"\n",
    "    \"\"\"This assumes no more than one parent per child.\"\"\"\n",
    "\n",
    "    local_df = df.copy()\n",
    "    all_parents = local_df[local_df.Feature == parent].ID.unique()\n",
    "    for p in all_parents:\n",
    "        tag_info = local_df[local_df.ID == p][tag_to_transfer].values[0]\n",
    "        local_df.loc[local_df['Parent'] == p, tag_to_transfer] = tag_info\n",
    "    \n",
    "    return local_df\n",
    "    "
   ]
  },
  {
   "cell_type": "code",
   "execution_count": 25,
   "id": "e3ed1546-3d15-46b6-8b8c-80c0b5639017",
   "metadata": {},
   "outputs": [],
   "source": [
    "merged_fixedID_df =  merge_cols(merged_fixedID_df, 'tissue', 'merged_tissue')\n",
    "merged_fixedID_df =  merge_cols(merged_fixedID_df, 'gene_id', 'merged_gene_id')\n",
    "merged_fixedID_df =  merge_cols(merged_fixedID_df, 'transcript_id', 'merged_transcript_id')"
   ]
  },
  {
   "cell_type": "code",
   "execution_count": 26,
   "id": "645a284a-5cb0-4eb7-8016-3008f8ca6916",
   "metadata": {},
   "outputs": [],
   "source": [
    "# remove manually merged_ID and merged_Parent as they don't have to be merged\n",
    "merged_fixedID_df = merged_fixedID_df.drop(['merged_ID' ,'merged_Parent'], axis=1)"
   ]
  },
  {
   "cell_type": "code",
   "execution_count": 27,
   "id": "6828d749-f88f-4020-9130-ae67d82f2f62",
   "metadata": {},
   "outputs": [],
   "source": [
    "merged_fixedID_df = transfer_to_child(merged_fixedID_df, 'transcript', 'gene_id')\n",
    "merged_fixedID_df = transfer_to_child(merged_fixedID_df, 'transcript', 'transcript_id')\n",
    "merged_fixedID_df = transfer_to_child(merged_fixedID_df, 'transcript', 'tissue')"
   ]
  },
  {
   "cell_type": "code",
   "execution_count": 28,
   "id": "27cf8955-651b-49bc-8f79-0cd27dfbd6b4",
   "metadata": {},
   "outputs": [
    {
     "data": {
      "text/html": [
       "<div>\n",
       "<style scoped>\n",
       "    .dataframe tbody tr th:only-of-type {\n",
       "        vertical-align: middle;\n",
       "    }\n",
       "\n",
       "    .dataframe tbody tr th {\n",
       "        vertical-align: top;\n",
       "    }\n",
       "\n",
       "    .dataframe thead th {\n",
       "        text-align: right;\n",
       "    }\n",
       "</style>\n",
       "<table border=\"1\" class=\"dataframe\">\n",
       "  <thead>\n",
       "    <tr style=\"text-align: right;\">\n",
       "      <th></th>\n",
       "      <th>Chromosome</th>\n",
       "      <th>Source</th>\n",
       "      <th>Feature</th>\n",
       "      <th>Start</th>\n",
       "      <th>End</th>\n",
       "      <th>Score</th>\n",
       "      <th>Strand</th>\n",
       "      <th>Frame</th>\n",
       "      <th>ID</th>\n",
       "      <th>gene_id</th>\n",
       "      <th>tissue</th>\n",
       "      <th>Parent</th>\n",
       "      <th>transcript_id</th>\n",
       "    </tr>\n",
       "  </thead>\n",
       "  <tbody>\n",
       "    <tr>\n",
       "      <th>0</th>\n",
       "      <td>Chr1</td>\n",
       "      <td>test</td>\n",
       "      <td>gene</td>\n",
       "      <td>99</td>\n",
       "      <td>1100</td>\n",
       "      <td>.</td>\n",
       "      <td>+</td>\n",
       "      <td>.</td>\n",
       "      <td>gene-1</td>\n",
       "      <td>gene1,gene2</td>\n",
       "      <td>liver,blood</td>\n",
       "      <td>NaN</td>\n",
       "      <td>NaN</td>\n",
       "    </tr>\n",
       "    <tr>\n",
       "      <th>1</th>\n",
       "      <td>Chr1</td>\n",
       "      <td>test</td>\n",
       "      <td>transcript</td>\n",
       "      <td>499</td>\n",
       "      <td>600</td>\n",
       "      <td>.</td>\n",
       "      <td>+</td>\n",
       "      <td>.</td>\n",
       "      <td>transcript-1</td>\n",
       "      <td>gene2</td>\n",
       "      <td>blood</td>\n",
       "      <td>gene-1</td>\n",
       "      <td>transcript2</td>\n",
       "    </tr>\n",
       "    <tr>\n",
       "      <th>2</th>\n",
       "      <td>Chr1</td>\n",
       "      <td>test</td>\n",
       "      <td>exon</td>\n",
       "      <td>499</td>\n",
       "      <td>600</td>\n",
       "      <td>.</td>\n",
       "      <td>+</td>\n",
       "      <td>.</td>\n",
       "      <td>exon-1</td>\n",
       "      <td>gene2</td>\n",
       "      <td>blood</td>\n",
       "      <td>transcript-1</td>\n",
       "      <td>transcript2</td>\n",
       "    </tr>\n",
       "    <tr>\n",
       "      <th>3</th>\n",
       "      <td>Chr1</td>\n",
       "      <td>test</td>\n",
       "      <td>transcript</td>\n",
       "      <td>99</td>\n",
       "      <td>1100</td>\n",
       "      <td>.</td>\n",
       "      <td>+</td>\n",
       "      <td>.</td>\n",
       "      <td>transcript-2</td>\n",
       "      <td>gene2</td>\n",
       "      <td>blood</td>\n",
       "      <td>gene-1</td>\n",
       "      <td>transcript1</td>\n",
       "    </tr>\n",
       "    <tr>\n",
       "      <th>4</th>\n",
       "      <td>Chr1</td>\n",
       "      <td>test</td>\n",
       "      <td>exon</td>\n",
       "      <td>99</td>\n",
       "      <td>200</td>\n",
       "      <td>.</td>\n",
       "      <td>+</td>\n",
       "      <td>.</td>\n",
       "      <td>exon-2</td>\n",
       "      <td>gene2</td>\n",
       "      <td>blood</td>\n",
       "      <td>transcript-2</td>\n",
       "      <td>transcript1</td>\n",
       "    </tr>\n",
       "    <tr>\n",
       "      <th>5</th>\n",
       "      <td>Chr1</td>\n",
       "      <td>test</td>\n",
       "      <td>exon</td>\n",
       "      <td>899</td>\n",
       "      <td>1100</td>\n",
       "      <td>.</td>\n",
       "      <td>+</td>\n",
       "      <td>.</td>\n",
       "      <td>exon-3</td>\n",
       "      <td>gene2</td>\n",
       "      <td>blood</td>\n",
       "      <td>transcript-2</td>\n",
       "      <td>transcript1</td>\n",
       "    </tr>\n",
       "    <tr>\n",
       "      <th>6</th>\n",
       "      <td>Chr1</td>\n",
       "      <td>test</td>\n",
       "      <td>transcript</td>\n",
       "      <td>99</td>\n",
       "      <td>1100</td>\n",
       "      <td>.</td>\n",
       "      <td>+</td>\n",
       "      <td>.</td>\n",
       "      <td>transcript-3</td>\n",
       "      <td>gene1,gene2</td>\n",
       "      <td>liver,blood</td>\n",
       "      <td>gene-1</td>\n",
       "      <td>transcript1,transcript4</td>\n",
       "    </tr>\n",
       "    <tr>\n",
       "      <th>7</th>\n",
       "      <td>Chr1</td>\n",
       "      <td>test</td>\n",
       "      <td>exon</td>\n",
       "      <td>99</td>\n",
       "      <td>200</td>\n",
       "      <td>.</td>\n",
       "      <td>+</td>\n",
       "      <td>.</td>\n",
       "      <td>exon-4</td>\n",
       "      <td>gene1,gene2</td>\n",
       "      <td>liver,blood</td>\n",
       "      <td>transcript-3</td>\n",
       "      <td>transcript1,transcript4</td>\n",
       "    </tr>\n",
       "    <tr>\n",
       "      <th>8</th>\n",
       "      <td>Chr1</td>\n",
       "      <td>test</td>\n",
       "      <td>exon</td>\n",
       "      <td>999</td>\n",
       "      <td>1100</td>\n",
       "      <td>.</td>\n",
       "      <td>+</td>\n",
       "      <td>.</td>\n",
       "      <td>exon-5</td>\n",
       "      <td>gene1,gene2</td>\n",
       "      <td>liver,blood</td>\n",
       "      <td>transcript-3</td>\n",
       "      <td>transcript1,transcript4</td>\n",
       "    </tr>\n",
       "    <tr>\n",
       "      <th>9</th>\n",
       "      <td>Chr1</td>\n",
       "      <td>test</td>\n",
       "      <td>transcript</td>\n",
       "      <td>99</td>\n",
       "      <td>1100</td>\n",
       "      <td>.</td>\n",
       "      <td>+</td>\n",
       "      <td>.</td>\n",
       "      <td>transcript-4</td>\n",
       "      <td>gene2</td>\n",
       "      <td>blood</td>\n",
       "      <td>gene-1</td>\n",
       "      <td>transcript3</td>\n",
       "    </tr>\n",
       "    <tr>\n",
       "      <th>10</th>\n",
       "      <td>Chr1</td>\n",
       "      <td>test</td>\n",
       "      <td>exon</td>\n",
       "      <td>99</td>\n",
       "      <td>200</td>\n",
       "      <td>.</td>\n",
       "      <td>+</td>\n",
       "      <td>.</td>\n",
       "      <td>exon-6</td>\n",
       "      <td>gene2</td>\n",
       "      <td>blood</td>\n",
       "      <td>transcript-4</td>\n",
       "      <td>transcript3</td>\n",
       "    </tr>\n",
       "    <tr>\n",
       "      <th>11</th>\n",
       "      <td>Chr1</td>\n",
       "      <td>test</td>\n",
       "      <td>exon</td>\n",
       "      <td>499</td>\n",
       "      <td>600</td>\n",
       "      <td>.</td>\n",
       "      <td>+</td>\n",
       "      <td>.</td>\n",
       "      <td>exon-7</td>\n",
       "      <td>gene2</td>\n",
       "      <td>blood</td>\n",
       "      <td>transcript-4</td>\n",
       "      <td>transcript3</td>\n",
       "    </tr>\n",
       "    <tr>\n",
       "      <th>12</th>\n",
       "      <td>Chr1</td>\n",
       "      <td>test</td>\n",
       "      <td>exon</td>\n",
       "      <td>999</td>\n",
       "      <td>1100</td>\n",
       "      <td>.</td>\n",
       "      <td>+</td>\n",
       "      <td>.</td>\n",
       "      <td>exon-8</td>\n",
       "      <td>gene2</td>\n",
       "      <td>blood</td>\n",
       "      <td>transcript-4</td>\n",
       "      <td>transcript3</td>\n",
       "    </tr>\n",
       "    <tr>\n",
       "      <th>13</th>\n",
       "      <td>Chr1</td>\n",
       "      <td>test</td>\n",
       "      <td>transcript</td>\n",
       "      <td>499</td>\n",
       "      <td>1100</td>\n",
       "      <td>.</td>\n",
       "      <td>+</td>\n",
       "      <td>.</td>\n",
       "      <td>transcript-5</td>\n",
       "      <td>gene1</td>\n",
       "      <td>liver</td>\n",
       "      <td>gene-1</td>\n",
       "      <td>transcript2</td>\n",
       "    </tr>\n",
       "    <tr>\n",
       "      <th>14</th>\n",
       "      <td>Chr1</td>\n",
       "      <td>test</td>\n",
       "      <td>exon</td>\n",
       "      <td>499</td>\n",
       "      <td>600</td>\n",
       "      <td>.</td>\n",
       "      <td>+</td>\n",
       "      <td>.</td>\n",
       "      <td>exon-9</td>\n",
       "      <td>gene1</td>\n",
       "      <td>liver</td>\n",
       "      <td>transcript-5</td>\n",
       "      <td>transcript2</td>\n",
       "    </tr>\n",
       "    <tr>\n",
       "      <th>15</th>\n",
       "      <td>Chr1</td>\n",
       "      <td>test</td>\n",
       "      <td>exon</td>\n",
       "      <td>999</td>\n",
       "      <td>1100</td>\n",
       "      <td>.</td>\n",
       "      <td>+</td>\n",
       "      <td>.</td>\n",
       "      <td>exon-10</td>\n",
       "      <td>gene1</td>\n",
       "      <td>liver</td>\n",
       "      <td>transcript-5</td>\n",
       "      <td>transcript2</td>\n",
       "    </tr>\n",
       "  </tbody>\n",
       "</table>\n",
       "</div>"
      ],
      "text/plain": [
       "   Chromosome Source     Feature  Start   End Score Strand Frame  \\\n",
       "0        Chr1   test        gene     99  1100     .      +     .   \n",
       "1        Chr1   test  transcript    499   600     .      +     .   \n",
       "2        Chr1   test        exon    499   600     .      +     .   \n",
       "3        Chr1   test  transcript     99  1100     .      +     .   \n",
       "4        Chr1   test        exon     99   200     .      +     .   \n",
       "5        Chr1   test        exon    899  1100     .      +     .   \n",
       "6        Chr1   test  transcript     99  1100     .      +     .   \n",
       "7        Chr1   test        exon     99   200     .      +     .   \n",
       "8        Chr1   test        exon    999  1100     .      +     .   \n",
       "9        Chr1   test  transcript     99  1100     .      +     .   \n",
       "10       Chr1   test        exon     99   200     .      +     .   \n",
       "11       Chr1   test        exon    499   600     .      +     .   \n",
       "12       Chr1   test        exon    999  1100     .      +     .   \n",
       "13       Chr1   test  transcript    499  1100     .      +     .   \n",
       "14       Chr1   test        exon    499   600     .      +     .   \n",
       "15       Chr1   test        exon    999  1100     .      +     .   \n",
       "\n",
       "              ID      gene_id       tissue        Parent  \\\n",
       "0         gene-1  gene1,gene2  liver,blood           NaN   \n",
       "1   transcript-1        gene2        blood        gene-1   \n",
       "2         exon-1        gene2        blood  transcript-1   \n",
       "3   transcript-2        gene2        blood        gene-1   \n",
       "4         exon-2        gene2        blood  transcript-2   \n",
       "5         exon-3        gene2        blood  transcript-2   \n",
       "6   transcript-3  gene1,gene2  liver,blood        gene-1   \n",
       "7         exon-4  gene1,gene2  liver,blood  transcript-3   \n",
       "8         exon-5  gene1,gene2  liver,blood  transcript-3   \n",
       "9   transcript-4        gene2        blood        gene-1   \n",
       "10        exon-6        gene2        blood  transcript-4   \n",
       "11        exon-7        gene2        blood  transcript-4   \n",
       "12        exon-8        gene2        blood  transcript-4   \n",
       "13  transcript-5        gene1        liver        gene-1   \n",
       "14        exon-9        gene1        liver  transcript-5   \n",
       "15       exon-10        gene1        liver  transcript-5   \n",
       "\n",
       "              transcript_id  \n",
       "0                       NaN  \n",
       "1               transcript2  \n",
       "2               transcript2  \n",
       "3               transcript1  \n",
       "4               transcript1  \n",
       "5               transcript1  \n",
       "6   transcript1,transcript4  \n",
       "7   transcript1,transcript4  \n",
       "8   transcript1,transcript4  \n",
       "9               transcript3  \n",
       "10              transcript3  \n",
       "11              transcript3  \n",
       "12              transcript3  \n",
       "13              transcript2  \n",
       "14              transcript2  \n",
       "15              transcript2  "
      ]
     },
     "execution_count": 28,
     "metadata": {},
     "output_type": "execute_result"
    }
   ],
   "source": [
    "merged_fixedID_df"
   ]
  },
  {
   "cell_type": "code",
   "execution_count": 31,
   "id": "5f566ec9-6f30-4a2a-8792-175aa7a922e6",
   "metadata": {},
   "outputs": [
    {
     "name": "stderr",
     "output_type": "stream",
     "text": [
      "/opt/homebrew/Caskroom/miniconda/base/lib/python3.12/site-packages/pyranges/methods/init.py:45: FutureWarning: The default of observed=False is deprecated and will be changed to True in a future version of pandas. Pass observed=False to retain current behavior or observed=True to adopt the future default and silence this warning.\n",
      "  return {k: v for k, v in df.groupby(grpby_key)}\n"
     ]
    }
   ],
   "source": [
    "rg_final = pr.PyRanges(merged_fixedID_df)\n",
    "rg_final.to_gff3('../data/longread_models/test_merge/test12_merged_polish.gff')"
   ]
  },
  {
   "cell_type": "markdown",
   "id": "1b042d36-1004-40bd-ab27-830163e23f3c",
   "metadata": {},
   "source": [
    "# Todo\n",
    "To imporove this process, add utility to tag gene_id and transcript_id so they are more easily reconducible to the original models"
   ]
  },
  {
   "cell_type": "code",
   "execution_count": null,
   "id": "25bc4b89-15d9-4654-91ee-6ebfc05569d8",
   "metadata": {},
   "outputs": [],
   "source": []
  }
 ],
 "metadata": {
  "kernelspec": {
   "display_name": "base",
   "language": "python",
   "name": "base"
  },
  "language_info": {
   "codemirror_mode": {
    "name": "ipython",
    "version": 3
   },
   "file_extension": ".py",
   "mimetype": "text/x-python",
   "name": "python",
   "nbconvert_exporter": "python",
   "pygments_lexer": "ipython3",
   "version": "3.12.2"
  }
 },
 "nbformat": 4,
 "nbformat_minor": 5
}
