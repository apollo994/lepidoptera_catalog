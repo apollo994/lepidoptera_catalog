{
 "cells": [
  {
   "cell_type": "markdown",
   "metadata": {},
   "source": [
    "The goal of this notebook is to:\n",
    "- measure the intersection of coding and non coding genes with the chain alignment\n",
    "- measure the size of the chain alignment compared to Hh genome size\n",
    "- test for significance of non coding element conservation "
   ]
  },
  {
   "cell_type": "markdown",
   "metadata": {},
   "source": [
    "# Intersect annotation and chain"
   ]
  },
  {
   "cell_type": "markdown",
   "metadata": {},
   "source": [
    "### Covert bigbed syntheny net in chain "
   ]
  },
  {
   "cell_type": "code",
   "execution_count": 66,
   "metadata": {},
   "outputs": [
    {
     "name": "stdout",
     "output_type": "stream",
     "text": [
      "--2024-07-16 18:21:48--  https://hgdownload.soe.ucsc.edu/hubs/GCA/963/853/865/GCA_963853865.1/GCA_963853865.1.chrom.sizes.txt\n",
      "Resolving hgdownload.soe.ucsc.edu (hgdownload.soe.ucsc.edu)... 128.114.119.163\n",
      "Connecting to hgdownload.soe.ucsc.edu (hgdownload.soe.ucsc.edu)|128.114.119.163|:443... connected.\n",
      "HTTP request sent, awaiting response... 200 OK\n",
      "Length: 516 [text/plain]\n",
      "Saving to: ‘../data/GCA_963853865.1.chrom.sizes.txt’\n",
      "\n",
      "GCA_963853865.1.chr 100%[===================>]     516  --.-KB/s    in 0s      \n",
      "\n",
      "2024-07-16 18:21:49 (15.9 MB/s) - ‘../data/GCA_963853865.1.chrom.sizes.txt’ saved [516/516]\n",
      "\n"
     ]
    }
   ],
   "source": [
    "# get synteny chain and chromsize from ucsc\n",
    "! wget -P ../data/ https://hgdownload.soe.ucsc.edu/hubs/GCA/963/853/865/GCA_963853865.1/GCA_963853865.1.chrom.sizes.txt\n",
    "! wget -P ../data/ https://hgdownload.soe.ucsc.edu/hubs/GCA/963/853/865/GCA_963853865.1/bbi/GCA_963853865.1_ilHelHell1.1.GCA_963855885.1.synNet.bb "
   ]
  },
  {
   "cell_type": "code",
   "execution_count": 60,
   "metadata": {},
   "outputs": [],
   "source": [
    "! mkdir ../tmp"
   ]
  },
  {
   "cell_type": "code",
   "execution_count": 61,
   "metadata": {},
   "outputs": [],
   "source": [
    "# Convert bigBed to BED\n",
    "! bigBedToBed ../data/GCA_963853865.1_ilHelHell1.1.GCA_963855885.1.synNet.bb ../tmp/GCA_963853865.1_ilHelHell1.1.GCA_963855885.1.synNet.bed"
   ]
  },
  {
   "cell_type": "code",
   "execution_count": 63,
   "metadata": {},
   "outputs": [],
   "source": [
    "# sort bed\n",
    "! sort -k1,1 -k2,2n ../tmp/GCA_963853865.1_ilHelHell1.1.GCA_963855885.1.synNet.bed > ../tmp/GCA_963853865.1_ilHelHell1.1.GCA_963855885.1.synNet.sorted.bed"
   ]
  },
  {
   "cell_type": "code",
   "execution_count": 69,
   "metadata": {},
   "outputs": [],
   "source": [
    "# Covert bed to psl\n",
    "# had to add the -tabs otherwhise it complained with invalid signed integer: \"score=5255.000000;s\"\n",
    "! bedToPsl -tabs ../data/GCA_963853865.1.chrom.sizes.txt ../tmp/GCA_963853865.1_ilHelHell1.1.GCA_963855885.1.synNet.sorted.bed ../tmp/GCA_963853865.1_ilHelHell1.1.GCA_963855885.1.synNet.psl"
   ]
  },
  {
   "cell_type": "code",
   "execution_count": 19,
   "metadata": {},
   "outputs": [
    {
     "name": "stdout",
     "output_type": "stream",
     "text": [
      "Bad line 1 of ../tmp/GCA_963853865.1_ilHelHell1.1.GCA_963855885.1.synNet.psl wordCount is 32 instead of 21 or 23\n",
      "\n"
     ]
    }
   ],
   "source": [
    "# covert psl to chain\n",
    "! pslToChain ../tmp/GCA_963853865.1_ilHelHell1.1.GCA_963855885.1.synNet.psl ../data/chains/GCA_963853865.1_ilHelHell1.1.GCA_963855885.1.synNet.chain"
   ]
  },
  {
   "cell_type": "markdown",
   "metadata": {},
   "source": [
    "I can not convert the synteny chain to a net format, which is useful for intersection.  \n",
    "I will use the raw chein instead `../data/chains/GCA_963853865.1ToGCA_963855885.1.over.chain.gz`"
   ]
  },
  {
   "cell_type": "markdown",
   "metadata": {},
   "source": [
    "### Covert gtf annotation usnig chromosome information from UCSC"
   ]
  },
  {
   "cell_type": "code",
   "execution_count": null,
   "metadata": {},
   "outputs": [],
   "source": [
    "alias = 'https://hgdownload.soe.ucsc.edu/hubs/GCA/963/853/865/GCA_963853865.1/GCA_963853865.1.chromAlias.txt'\n",
    "gtf_coding_ann = '../data/HEHEL1A.FA.gtf'\n",
    "gtf_coding_ann_gbnames = '../results/GenePred/HEHEL1A.FA.gbnames.gtf'\n",
    "\n",
    "gtf_NONcoding_ann = '../data/HEHEL1ncA.gtf'\n",
    "gtf_NONcoding_ann_gbnames = '../results/GenePred/HEHEL1ncA.gbnames.gtf'"
   ]
  },
  {
   "cell_type": "code",
   "execution_count": 9,
   "metadata": {},
   "outputs": [
    {
     "name": "stdout",
     "output_type": "stream",
     "text": [
      "HEHEL1A.FA.gtf HEHEL1ncA.gtf  \u001b[1m\u001b[36mchains\u001b[m\u001b[m\n"
     ]
    }
   ],
   "source": [
    "! mkdir -p ../results/GenePred\n",
    "! ls ../data"
   ]
  },
  {
   "cell_type": "code",
   "execution_count": 11,
   "metadata": {},
   "outputs": [],
   "source": [
    "! chromToUcsc -a $alias -i $gtf_coding_ann  -o $gtf_coding_ann_gbnames\n",
    "! chromToUcsc -a $alias -i $gtf_NONcoding_ann  -o $gtf_NONcoding_ann_gbnames"
   ]
  },
  {
   "cell_type": "code",
   "execution_count": 14,
   "metadata": {},
   "outputs": [
    {
     "name": "stdout",
     "output_type": "stream",
     "text": [
      "HEHEL1A.FA.gbnames.gtf HEHEL1ncA.gbnames.gtf\n"
     ]
    }
   ],
   "source": [
    "! ls ../results/GenePred/"
   ]
  },
  {
   "cell_type": "markdown",
   "metadata": {},
   "source": [
    "### Convert gtf to genepred"
   ]
  },
  {
   "cell_type": "code",
   "execution_count": 18,
   "metadata": {},
   "outputs": [],
   "source": [
    "gtf_coding_ann_gbnames = '../results/GenePred/HEHEL1A.FA.gbnames.gtf'\n",
    "gtf_NONcoding_ann_gbnames = '../results/GenePred/HEHEL1ncA.gbnames.gtf'\n",
    "\n",
    "genepred_coding = '../results/GenePred/HEHEL1A.FA.gbnames.gp'\n",
    "genepred_NONcoding = '../results/GenePred/HEHEL1ncA.gbnames.gp'"
   ]
  },
  {
   "cell_type": "code",
   "execution_count": 19,
   "metadata": {},
   "outputs": [],
   "source": [
    "! gtfToGenePred $gtf_coding_ann_gbnames $genepred_coding\n",
    "! gtfToGenePred $gtf_NONcoding_ann_gbnames $genepred_NONcoding"
   ]
  },
  {
   "cell_type": "code",
   "execution_count": 22,
   "metadata": {},
   "outputs": [
    {
     "name": "stdout",
     "output_type": "stream",
     "text": [
      "HEHEL1A.FA.gbnames.gp  HEHEL1ncA.gbnames.gp\n",
      "HEHEL1A.FA.gbnames.gtf HEHEL1ncA.gbnames.gtf\n"
     ]
    }
   ],
   "source": [
    "! ls ../results/GenePred"
   ]
  },
  {
   "cell_type": "markdown",
   "metadata": {},
   "source": [
    "### Intersect with chain to measure overlap size"
   ]
  },
  {
   "cell_type": "code",
   "execution_count": 36,
   "metadata": {},
   "outputs": [],
   "source": [
    "hh_chain = '../data/chains/GCA_963853865.1ToGCA_963855885.1.over.chain.gz'\n",
    "\n",
    "genepred_coding = '../results/GenePred/HEHEL1A.FA.gbnames.gp'\n",
    "genepred_NONcoding = '../results/GenePred/HEHEL1ncA.gbnames.gp'\n",
    "\n",
    "coding_ovelap = '../results/chain_stats/coding_ovelap.stats'\n",
    "NONcoding_overlap = '../results/chain_stats/NONcoding_ovelap.stats'"
   ]
  },
  {
   "cell_type": "code",
   "execution_count": 37,
   "metadata": {},
   "outputs": [],
   "source": [
    "! mkdir -p ../results/chain_stats\n",
    "! overlapSelect -aggregate -statsOutputAll $hh_chain $genepred_coding $coding_ovelap\n",
    "! overlapSelect -aggregate -statsOutputAll $hh_chain $genepred_NONcoding $NONcoding_overlap"
   ]
  },
  {
   "cell_type": "code",
   "execution_count": 38,
   "metadata": {},
   "outputs": [
    {
     "name": "stdout",
     "output_type": "stream",
     "text": [
      "total 1544\n",
      "-rw-r--r--  1 fzanarello  staff  116454 Jul 16 15:01 NONcoding_ovelap.stats\n",
      "-rw-r--r--  1 fzanarello  staff  668204 Jul 16 15:00 coding_ovelap.stats\n"
     ]
    }
   ],
   "source": [
    "! ls -l ../results/chain_stats"
   ]
  },
  {
   "cell_type": "code",
   "execution_count": 39,
   "metadata": {},
   "outputs": [
    {
     "name": "stdout",
     "output_type": "stream",
     "text": [
      "==> ../results/chain_stats/NONcoding_ovelap.stats <==\n",
      "#inId\tinOverlap\tinOverBases\tinBases\n",
      "HEHEL1ncA003759T1\t0.988\t586\t593\n",
      "HEHEL1ncA003760T1\t0.722\t587\t813\n",
      "HEHEL1ncA003760T2\t0.747\t587\t786\n",
      "HEHEL1ncA003761T1\t0\t0\t1275\n",
      "HEHEL1ncA003762T1\t0.993\t915\t921\n",
      "HEHEL1ncA003763T1\t0.976\t486\t498\n",
      "HEHEL1ncA003764T1\t0\t0\t391\n",
      "HEHEL1ncA003765T1\t0.988\t919\t930\n",
      "HEHEL1ncA003766T1\t0.881\t586\t665\n",
      "\n",
      "==> ../results/chain_stats/coding_ovelap.stats <==\n",
      "#inId\tinOverlap\tinOverBases\tinBases\n",
      "HEHEL1A006054T1\t0.503\t897\t1785\n",
      "HEHEL1A001044T1\t0\t0\t615\n",
      "HEHEL1A021490T1\t0\t0\t1179\n",
      "HEHEL1A016437T1\t0.361\t91\t252\n",
      "HEHEL1A008524T1\t0.627\t361\t576\n",
      "HEHEL1A001957T1\t0.987\t2047\t2073\n",
      "HEHEL1A001303T1\t0.71\t535\t753\n",
      "HEHEL1A016218T1\t0\t0\t522\n",
      "HEHEL1A010025T1\t0.697\t1244\t1785\n"
     ]
    }
   ],
   "source": [
    "! head ../results/chain_stats/*"
   ]
  },
  {
   "cell_type": "markdown",
   "metadata": {},
   "source": [
    "### Measure overlap"
   ]
  },
  {
   "cell_type": "code",
   "execution_count": 5,
   "metadata": {},
   "outputs": [],
   "source": [
    "import pandas as pd\n",
    "import seaborn as sns"
   ]
  },
  {
   "cell_type": "code",
   "execution_count": 50,
   "metadata": {},
   "outputs": [],
   "source": [
    "def get_overlap_size(overlap_stats_path, only_overlapping = False):\n",
    "\n",
    "    df = pd.read_csv(overlap_stats_path, sep = '\\t')\n",
    "\n",
    "    if only_overlapping:\n",
    "        df = df[df.inOverBases > 0]\n",
    "    \n",
    "    ann_size = df.inBases.sum()\n",
    "    over_size = df.inOverBases.sum()\n",
    "    perc_overlap = round((over_size*100)/ann_size, 2)\n",
    "\n",
    "    return perc_overlap"
   ]
  },
  {
   "cell_type": "code",
   "execution_count": 51,
   "metadata": {},
   "outputs": [],
   "source": [
    "NONcoding_stat = '../results/chain_stats/NONcoding_ovelap.stats'\n",
    "coding_stat = '../results/chain_stats/coding_ovelap.stats'"
   ]
  },
  {
   "cell_type": "code",
   "execution_count": 57,
   "metadata": {},
   "outputs": [
    {
     "name": "stdout",
     "output_type": "stream",
     "text": [
      "NONcoding_overlap\n",
      "When considering all transcripts = 16.55%\n",
      "When considering only overlapping transcripts = 41.17%\n",
      "\n",
      "coding_ovelap\n",
      "When considering all transcripts = 62.53%\n",
      "When considering only overlapping transcripts = 67.52%\n",
      "\n"
     ]
    }
   ],
   "source": [
    "for sample_name, sample in zip(['NONcoding_overlap', 'coding_ovelap'],\n",
    "                               [NONcoding_overlap, coding_ovelap]):\n",
    "\n",
    "    overlap_size_all = get_overlap_size(sample)\n",
    "    overlap_size_onlyoverlapping = get_overlap_size(sample, only_overlapping=True)\n",
    "    \n",
    "    print (sample_name)\n",
    "    print (f'When considering all transcripts = {overlap_size_all}%')\n",
    "    print (f'When considering only overlapping transcripts = {overlap_size_onlyoverlapping}%')\n",
    "    print ()"
   ]
  },
  {
   "cell_type": "markdown",
   "metadata": {},
   "source": [
    "#### Plotting gene overlap"
   ]
  },
  {
   "cell_type": "code",
   "execution_count": 12,
   "metadata": {},
   "outputs": [],
   "source": [
    "df_coding = pd.read_csv('../results/chain_stats/coding_ovelap.stats', sep = '\\t')\n",
    "df_coding['set'] = 'coding'\n",
    "df_NONcoding = pd.read_csv('../results/chain_stats/NONcoding_ovelap.stats', sep = '\\t')\n",
    "df_NONcoding['set'] = 'NONcoding'\n",
    "\n",
    "df = pd.concat([df_coding, df_NONcoding])"
   ]
  },
  {
   "cell_type": "code",
   "execution_count": 13,
   "metadata": {},
   "outputs": [
    {
     "data": {
      "text/html": [
       "<div>\n",
       "<style scoped>\n",
       "    .dataframe tbody tr th:only-of-type {\n",
       "        vertical-align: middle;\n",
       "    }\n",
       "\n",
       "    .dataframe tbody tr th {\n",
       "        vertical-align: top;\n",
       "    }\n",
       "\n",
       "    .dataframe thead th {\n",
       "        text-align: right;\n",
       "    }\n",
       "</style>\n",
       "<table border=\"1\" class=\"dataframe\">\n",
       "  <thead>\n",
       "    <tr style=\"text-align: right;\">\n",
       "      <th></th>\n",
       "      <th>#inId</th>\n",
       "      <th>inOverlap</th>\n",
       "      <th>inOverBases</th>\n",
       "      <th>inBases</th>\n",
       "      <th>set</th>\n",
       "    </tr>\n",
       "  </thead>\n",
       "  <tbody>\n",
       "    <tr>\n",
       "      <th>0</th>\n",
       "      <td>HEHEL1A006054T1</td>\n",
       "      <td>0.503</td>\n",
       "      <td>897</td>\n",
       "      <td>1785</td>\n",
       "      <td>coding</td>\n",
       "    </tr>\n",
       "    <tr>\n",
       "      <th>1</th>\n",
       "      <td>HEHEL1A001044T1</td>\n",
       "      <td>0.000</td>\n",
       "      <td>0</td>\n",
       "      <td>615</td>\n",
       "      <td>coding</td>\n",
       "    </tr>\n",
       "    <tr>\n",
       "      <th>2</th>\n",
       "      <td>HEHEL1A021490T1</td>\n",
       "      <td>0.000</td>\n",
       "      <td>0</td>\n",
       "      <td>1179</td>\n",
       "      <td>coding</td>\n",
       "    </tr>\n",
       "    <tr>\n",
       "      <th>3</th>\n",
       "      <td>HEHEL1A016437T1</td>\n",
       "      <td>0.361</td>\n",
       "      <td>91</td>\n",
       "      <td>252</td>\n",
       "      <td>coding</td>\n",
       "    </tr>\n",
       "    <tr>\n",
       "      <th>4</th>\n",
       "      <td>HEHEL1A008524T1</td>\n",
       "      <td>0.627</td>\n",
       "      <td>361</td>\n",
       "      <td>576</td>\n",
       "      <td>coding</td>\n",
       "    </tr>\n",
       "    <tr>\n",
       "      <th>...</th>\n",
       "      <td>...</td>\n",
       "      <td>...</td>\n",
       "      <td>...</td>\n",
       "      <td>...</td>\n",
       "      <td>...</td>\n",
       "    </tr>\n",
       "    <tr>\n",
       "      <th>4259</th>\n",
       "      <td>HEHEL1ncA002455T1</td>\n",
       "      <td>0.459</td>\n",
       "      <td>34</td>\n",
       "      <td>74</td>\n",
       "      <td>NONcoding</td>\n",
       "    </tr>\n",
       "    <tr>\n",
       "      <th>4260</th>\n",
       "      <td>HEHEL1ncA002456T1</td>\n",
       "      <td>0.762</td>\n",
       "      <td>64</td>\n",
       "      <td>84</td>\n",
       "      <td>NONcoding</td>\n",
       "    </tr>\n",
       "    <tr>\n",
       "      <th>4261</th>\n",
       "      <td>HEHEL1ncA002457T1</td>\n",
       "      <td>0.000</td>\n",
       "      <td>0</td>\n",
       "      <td>904</td>\n",
       "      <td>NONcoding</td>\n",
       "    </tr>\n",
       "    <tr>\n",
       "      <th>4262</th>\n",
       "      <td>HEHEL1ncA002458T1</td>\n",
       "      <td>0.000</td>\n",
       "      <td>0</td>\n",
       "      <td>1648</td>\n",
       "      <td>NONcoding</td>\n",
       "    </tr>\n",
       "    <tr>\n",
       "      <th>4263</th>\n",
       "      <td>HEHEL1ncA002459T1</td>\n",
       "      <td>0.886</td>\n",
       "      <td>921</td>\n",
       "      <td>1039</td>\n",
       "      <td>NONcoding</td>\n",
       "    </tr>\n",
       "  </tbody>\n",
       "</table>\n",
       "<p>27022 rows × 5 columns</p>\n",
       "</div>"
      ],
      "text/plain": [
       "                  #inId  inOverlap  inOverBases  inBases        set\n",
       "0       HEHEL1A006054T1      0.503          897     1785     coding\n",
       "1       HEHEL1A001044T1      0.000            0      615     coding\n",
       "2       HEHEL1A021490T1      0.000            0     1179     coding\n",
       "3       HEHEL1A016437T1      0.361           91      252     coding\n",
       "4       HEHEL1A008524T1      0.627          361      576     coding\n",
       "...                 ...        ...          ...      ...        ...\n",
       "4259  HEHEL1ncA002455T1      0.459           34       74  NONcoding\n",
       "4260  HEHEL1ncA002456T1      0.762           64       84  NONcoding\n",
       "4261  HEHEL1ncA002457T1      0.000            0      904  NONcoding\n",
       "4262  HEHEL1ncA002458T1      0.000            0     1648  NONcoding\n",
       "4263  HEHEL1ncA002459T1      0.886          921     1039  NONcoding\n",
       "\n",
       "[27022 rows x 5 columns]"
      ]
     },
     "execution_count": 13,
     "metadata": {},
     "output_type": "execute_result"
    }
   ],
   "source": [
    "df"
   ]
  },
  {
   "cell_type": "code",
   "execution_count": 17,
   "metadata": {},
   "outputs": [
    {
     "data": {
      "text/plain": [
       "<Axes: xlabel='inOverlap', ylabel='Count'>"
      ]
     },
     "execution_count": 17,
     "metadata": {},
     "output_type": "execute_result"
    },
    {
     "data": {
      "image/png": "[encoded data removed]",
      "text/plain": [
       "<Figure size 640x480 with 1 Axes>"
      ]
     },
     "metadata": {},
     "output_type": "display_data"
    }
   ],
   "source": [
    "sns.histplot(data = df, x  = 'inOverlap', hue = 'set', multiple=\"dodge\", kde=True)"
   ]
  },
  {
   "cell_type": "code",
   "execution_count": 18,
   "metadata": {},
   "outputs": [
    {
     "data": {
      "text/plain": [
       "<Axes: xlabel='inOverlap', ylabel='Count'>"
      ]
     },
     "execution_count": 18,
     "metadata": {},
     "output_type": "execute_result"
    },
    {
     "data": {
      "image/png": "[encoded data removed]",
      "text/plain": [
       "<Figure size 640x480 with 1 Axes>"
      ]
     },
     "metadata": {},
     "output_type": "display_data"
    }
   ],
   "source": [
    "sns.histplot(data = df[df.inOverlap >0 ], x  = 'inOverlap', hue = 'set', multiple=\"dodge\", kde=True)"
   ]
  },
  {
   "cell_type": "markdown",
   "metadata": {},
   "source": [
    "# Measure genome coverage"
   ]
  },
  {
   "cell_type": "markdown",
   "metadata": {},
   "source": [
    "### covert chain to Bed"
   ]
  },
  {
   "cell_type": "markdown",
   "metadata": {},
   "source": [
    "I will select for columns 3,6 and 7 as they reppresent the chr start and end of each chain in the query.]\n",
    "```\n",
    "colnames = ['header','score','tName','tSize','tStrand','tStart','tEnd','qName','qSize','qStrand','qStart','qEnd','id']\n",
    "```"
   ]
  },
  {
   "cell_type": "code",
   "execution_count": 123,
   "metadata": {},
   "outputs": [],
   "source": [
    "%%bash \n",
    "\n",
    "zgrep 'chain' ../data/chains/GCA_963853865.1ToGCA_963855885.1.over.chain.gz \\\n",
    "        | cut -d ' ' -f 3,6,7  > ../tmp/GCA_963853865.1ToGCA_963855885.1.over.tmp\n",
    "\n",
    "tr ' ' '\\t' < ../tmp/GCA_963853865.1ToGCA_963855885.1.over.tmp > ../tmp/GCA_963853865.1ToGCA_963855885.1.over.bed\n",
    "\n",
    "bedtools sort -i ../tmp/GCA_963853865.1ToGCA_963855885.1.over.bed > ../tmp/GCA_963853865.1ToGCA_963855885.1.over.sorted.bed\n",
    "\n",
    "bedtools merge -i ../tmp/GCA_963853865.1ToGCA_963855885.1.over.sorted.bed > ../results/GCA_963853865.chain.intervals.bed"
   ]
  },
  {
   "cell_type": "code",
   "execution_count": 126,
   "metadata": {},
   "outputs": [],
   "source": [
    "a = ! cut -f 2 ../results/GCA_963853865.chain.intervals.bed\n",
    "b = ! cut -f 3 ../results/GCA_963853865.chain.intervals.bed"
   ]
  },
  {
   "cell_type": "code",
   "execution_count": null,
   "metadata": {},
   "outputs": [],
   "source": []
  },
  {
   "cell_type": "code",
   "execution_count": null,
   "metadata": {},
   "outputs": [],
   "source": []
  },
  {
   "cell_type": "code",
   "execution_count": null,
   "metadata": {},
   "outputs": [],
   "source": []
  },
  {
   "cell_type": "code",
   "execution_count": null,
   "metadata": {},
   "outputs": [],
   "source": [
    "! head ../results/"
   ]
  },
  {
   "cell_type": "code",
   "execution_count": 132,
   "metadata": {},
   "outputs": [
    {
     "name": "stdout",
     "output_type": "stream",
     "text": [
      "OY971414.1\t7959\t8345\ta score=5255.000000;s GCA_963853865.1.OY971414.1 7959 386 + 34208996 TGGAAACCGGCGAGGAGGTTCTAGAGAGGATAAGGAGGGCAGTGAATGCAAAGGAGGGAGGGGTAGTGATAGAAAGTATAAGGAAGGCAAAGGACCGTAAAGTCATCGTGGGCTGTAGGAGCAAGGAGGAAAGGGAAAAAAT-CAAGGAGAGATTAAAAGTAGCCGAGACACACCTAAGCGTTGCCGACATCAAGAACAAGGACcctcttatcataatatttgatGTTATGAAGTATAACACCGATAAGGAGGTCCTTAGCGCGCTTAGGGCACAAAATAAGCACCTATTTGATGAGC--TAAGGGAGGACGAAGACagagttgaaataaaatttaaa------aagaaagcaaGAAACCCCTTAGCTCATCACATAGTGCTCAAAGTGTCCCCA;s GCA_963855885.1.OY979644.1 9041 383 - 15425852 TGAAGACCGGTGATCAAGTTCTAGAAACTATTAGGGTGACCCTGGACAGTAAAAAGTCTGGGGCCAAAGTGGACCGAATCCGAAAGGCGCGAAACCATAAGGTCATTTTGAGCTGTAACACCAAGGAGgacatggccgccatacaaaaagACACTCATGGCTGCAAAGACA----TCAGAGTGGAAAAAGCCAAGGCAAGGAACCCCCTAGCCAGGGTGAAGGACGTGCTGGCCTACCACACCGACGACGAGATAGTGGACCGCATAAAAAGGCAGAATGACCATCT-TCTGAGAGGCATCGAAGGGGAGCAAAtgc----tt---ataaaacttagatacCGCAAAAGAGCGCGGAACCCCCTGGAATGTCACCCGGTTCTGGAGCTCTCGCCA;\n",
      "OY971414.1\t8384\t8663\ta score=7480.000000;s GCA_963853865.1.OY971414.1 8384 279 + 34208996 ATTGATTTACAACGGGTTAGAGTTGCGGATCAATCCCCACTAGTGCAGTGCTCTATGTGTCTCGGTTACGGGCACAGCAAGCGGTTCTGCACGGAGAGCATCGAAATGTGCAGCCACTGTGCAGGACCGCACAAGAAAGCGGATTGCCCTGAGCGGCCA-GAGGGGGAGCCCCTAAATGCTGTAATTGCGTAAAAGC---AAATCAGGAGCAAACGGCCCACGATGCTTTTAGCGACAAATGTCCAGAACGACGAAAGTGGGATGCGCTGGCGCGGTCCACGA;s GCA_963855885.1.OY979644.1 9463 283 - 15425852 ataggcctacaaAGGAGACCAATCGTAGACCAGTCTCCACTGGTGCAATGCACGAAGTGTCTCGGCTTCGGCCACACCCGGGCGATTTGTAAAGGGGAGAACTTCCTATGTAGCCACTGTGGGGACCCACACAAATGGGAAGAATGCCCACAGAAAGCACGAGGAAGTGCTCCCAACTGCAAAAACTGCCGGATGGCCGAAAACCATGAGGCCAAAGATCACAATGCATTCAGCGAGGAATGCCCGGAGAAACAGAAATGGGACTCCATAGCGAGGTCCAAGA;\n",
      "OY971414.1\t14591\t15204\ta score=8917.000000;s GCA_963853865.1.OY971414.1 14591 613 + 34208996 CTCTCCACTCGGTGATGATCTCATCGACCGATGATCAAAATACCGGTGATGAGGTCATCACCAAGATTCGCGACGCTATCGACGCTAAGGAGGGATGGGTGAAGGTAGAGAGGATTCGTAAGGTTAAGAATAGGAAAGTAATAGTCGGATGTgccaataaaatagaaaaagaaaaggtaaaagaaaaaTTGAAGA---ATAGGCCGGATCTGAACGTAGAAGAAGTGAGAAATAAGGACCCCCTGGTTGTTCTCAAGGACGTATTCTCCTATAACACCGATGGAGATATCGAAAAAGCCTTGTTTAAACAAAACAAGGCTATCTTTGAGGACATCCCGGAGGAAGAAGCAAGAGTGAGGATTTTGTTTAGAAAGAAAGCGAGGAACCCCCTACAGGGCCATGTCGTGGTCAGGGTGTCCCCCAAAGTATGGAAGAGATGCACGGATGAGGGTCGGCTATATGTCGACCTCCAAAGAGTAAAAGTAGAGGACCATAGTCCGATTACGCAGTGCTCCCGCTGCTTAGGGTATGGGCACACGAGGCGGTGGTGCAGGGAGGAGGCCGAGGTGTGTGGCCACTGCGGCGGTCCTCATAAGAGGACCGACTGCCAGCAGTG;s GCA_963855885.1.OY979644.1 21939 614 - 15425852 CTGTCCACTCAATGGTCGTGTCGTCTGTTGACGCTCACGACACGAGCGAAGATGTTATACACAAGATTCGCACGGCCGTGAGCGCCAAAACAACGGGCATAAGGGTGGACAGACTGAGGAAGGCCCGGGAACAGAAGGTGGTGCTGGGCTGCCGGTCTCGGGAGGAGCTGGCCAAGGTTGCCGAGAGGCTCAAGGCCGGCAACCCAACACTACTTATGGAAGAGAAAGCCAATCGGGATCCCCTCGTCATCTTACACAAcgtcttaaaaataaatagtgacgAGGATGTCCTGGGTGCCCTAAGGAGGCAGAACTCTGCTATAGTGGGGGCGATACCGGAGAGCGAGTATCGGGCGAGTGTGCGGTTCCGCAGGAAGGCTAGGAACCCACTCGAGAGCCATGTCGTTCTCCAGGTGTCGCCGGCAGTGTGGCAGAGCCTCACTCTGGCAGGCAAAGTCCACGTGGACCTGCAGCGAGTAACGGTCAAAGACCAATCCCCACTGGTGCAGTGCTCCAGGTGTCTCGGATACGGACATGGTCGGAAGACTTGCACCGAGTCCGTAGACACCTGCAGCCACTGCGCGGGTTCACACCTGCGTAGTGACTGCC--CAGTG;\n",
      "OY971414.1\t15285\t16260\ta score=13615.000000;s GCA_963853865.1.OY971414.1 15285 975 + 34208996 TGTTTAGTGAGAAAGAAGTGGGACACCCTGGCCAGGTCGATGGTCATGTACTGCTGAGGGCGTGCTAGGTGAAACCCGGGAC--TTCCAGTACCGCT-------------------TTGCACAGTCCAATCTCCAAAGGAGTCAGCTGGCCACCACAGAGCTTCTGCTCGAAGCCACCAAGCGTAAGGTGAGCGTGGCGTTGCTTCAAGAGCCCTACGTGGGTGGGGCAAAAAGTATG------------AGGAGCTACCGGGGGGTGAGGATCTACCAGAACACTGGTGAACGCGCTGATACCGTCAAAGCGGCAATAGCCGTCTTTGACGAGAAC----------TTGGACGTCCAATACCATCCGGACTTGTCCACCGACAACATTGTCGTAATCAGCGTGCGAACCAGTGCCTGGGAGATCCATGTAGTGTCCTTATACTTTGAGCCAGACCGCCCTATAGGGCCCTATCTGGACCATCTTGTCGGTATAGGAAGGAGGTTGGGTACCGACAAGA----TGGTCTTGGGAGGCGACGTCAACGCAAAAAGCCCGTGGTGGGGCGGCCATGTTGAAGACCGGAGGGGAGCGGAAGTGTCGGGCGTGCTGGAGGGGTTGGGTATGGAAGTACTCAACGACGGAGGCGCCGCTACGTTCGAAGTAGTAAGAGGGGGGACCAGGTATGCCAGCTACGTCGATGTGACGGCCTGCGCCAGGAACCTGCT-GAATCGA---GTGGTCGACTGGTCAGTCGAGGTTGGGCTCACCAGTTCTGACCATAATGGCATCTTGTTTGGGATCAGACAACACAAATCCACAGGCAC---AGACATAAAACGCACGACACGCATCTATAACACACGCAAAGCAAACTGGGGGAGTTTCGATGA--------GAAACTAACCCAGTTAATGCGAGACAGACAATTAACTCCACAGAGCATTAACACAATACACAGCACACAAcaag---tagatgaagtgttggacAGTTACACGGAGGCGATCACACAGGCATGTAAACACTCAATCCC;s GCA_963855885.1.OY979644.1 22637 996 - 15425852 TGTCCGGTCAGACGGAAATGGGAGGCACTCGCAAGGGCGAGGGTGGCGTACTGCTAAAGGCGCACCGGGCGAAACTCAGGACACTGCTACTGCTGCTACTGAGCGGGTTTACCGTGCCGTTCAGGCCAACCTGCAGCGAGCGAAGCTGGCCACAAAAGAACTGTTATtagaatgtcaaaagaggaaggTCAGCTTCGCGTTGGTGCAGGAGCCGTATGTGGG---GGCGGACGGTGAGCTCACTCAGGCAAGGGGCTATCGGG---------TCGTCCAGAGAGCGCGCGACAGGGTCAAACCAGTCAAGTCTGCGGTCGTGGTGTTGGATGACGATCTCGTTGTGATTGAACATCCAACAC----------TCACGACCGAGAACGTTGCGGTGGCAACCCTGAAAGCGCGCTCTTGGGAGGTATGTGTCATTTCCGTCTACTTCGAGGACAGCCTGCCCATCGAACCCTACCT---CACTCATGTAAAAATGGTCAA-AGACCAGCTCCAGGCAAAACATGTAATCATTGGAGGCGACGCCAATGCCTGGAGCACATGGTGGGGTAGCGATTCGGAAGACCATAGGGGCGAGGCGCTTGTGGGCGCTATTGAAGAGATGGAAATGCACATACTGAACGAAGGGACGGTCCCGACTTTTTTCACTATCAGGAACGGGGTCGTCTGCAAAAGCATGGTTGACGTTACGTTGTGTAGCAACGGTCTGCTCGGGTTGATCAGCGATTGGAGGGTTGATCAAGGTTTG----ACGAATTCTGATCATAATGCAATTACCTTCGCGATACGCCTTAGCAAATCAACTGGTGTGCGACTCGCAAAA---ACAACGCGAAAATTTAATACACGGAAAGCGGCGTGGACAAAGTTTACTGATATCTTGAAAAAAGAACTTATTACACATGAG--------TTGTCCACGCCGAAAATTAACGACAT---CAGCACACCAGTAGAACTAGAGgaagcaattaaaaaatatacagataGTGTAGAAAAGGCGTGTCGCGGGTCAATCCC;\n",
      "OY971414.1\t16278\t18239\ta score=41934.000000;s GCA_963853865.1.OY971414.1 16278 1961 + 34208996 AAAACTCACCATGTCATGGTGGTCTGATGAGCTCGCCGAGATGAAAAGACAGGTGGCCACGAGGAGAAGTAGGATCCGTAACGCAGCGCCAGTCCGTAGAGATCGCGTAGTGAAGCATTACCTGGAAATGAAAGAGATGTATGAAAAAGCGG--TGAAGGATGCAAAGGTGAATAGCTGGAAAGAGTTTTGCCAAAAACAGGATAAGGAGGGAGTATGGGAGGGCATCTACAGAGTGATGGGCAGGGTCGCCGGTAGAGAGGAAGACCTTCCCCTCGTAAAAGAGGGGAAGGTCCTCGATGCCGGCGACTCAGCGAAATGGCTGGCCGAGACCTTCTACCCCCGGGACCTGGAAAGTGATGAAGGGGAGGAACACCGTCGGGTGCGGCGACTCGCAGAGTCTCTAGACTCGGAGCCGACGG--ACCCGGGAGGTG------AGCCGCCCTTCATCATGGAGGAGTTGAACAGAGCCGTAAGGTCGTTCAACCCCAAGAAGGCCCCAGGTGTGGATGGATTCACGGCCGACATTTGTCATCACGCTGTAGCTTGTGACGC---CGCGTTTTTCCTAGCCCTGCTCAATCGCTGCCTCGCCGTTGCCTACTTCCCCAAAATGTGGAAGCGCGCAACGGTGGTGGTTCTGCGGAAGCCGGGGAAGGAAAAATACGACGTCCCAAAAGCCTATCGACCCATCGGCCTCCTTCCTGTTTTTGGCAAGATTTATGAGAAGATGTTGGTGGCCCGACTCAAGTACCACGTGTTGCCGACTATAAGCCCGCACCAGTATGGCTTTATGCCACAGAAAGGtaccgaagacgccctctatgcGCTGGTGGGCCGCGTCAG--GAAGATGAGGGAAACCAAAAGGCTTGCTGTCGTGgtctcgctggacatagagggggccttcgatagTGCATGGTGGCCAGCCATAAAGGTGCGGTTAGCGGAGG-TCGGCGTTCCGGGGGCTTGAGGCGGGTCATCAGCAGCTATCTGAGTGAAAGGAATGTGAGCGTGAGGTATTCCGGCCAGGAGGTAAGTAGAGAAACCGGCAAGGGGTGCGTACAGGGGTCCATAGGTGGACCGATCCTGTGGAACCTCTTGCTGGATCCTTTGCTTTGGAGATTGGCAGGGGAGAGAGTACATGTG--CAGGCCTTCGCCGACGATGTGGTCCTCGTGTTCGATGG---TCAGACGGCAC-TGGAGATCGAGGAACATGCGAATGCC---GTGCTCGCCCGTGTGATTGAGTGGGGGGTCGAAAATAAGCTTCGATTTGCACCGCACAAAACTTGTGCGATGCTGGTGACCCGTAAGCTTATTTTCGACACTCCGCGTCTGCGCATGGGTGGGACCGACATTCGTATGTCCGATGAGATTAAAGTGCTGGGTCTCACCATCGATAAGGGGCTCACATTCAATCGGCACGTAGAAAACGCTTGTAAGAAGGGGATAGGCTTGTATAAAAAATTGGCAAGAGCGGCAAGAGTTGGGTGGGGCCTCCATCCGGAGGTTATAGAAGTAATATATAAGGCTGTTATAGAGCCCACAGTTTTGTACGCAGCACCGGCATGGGCGCCGGCCGCGAATAAATTAGGAATAAAGAAGAGGCTTGCCACACTCCAGAGGGGTTTCGccttaaagaaaataaaggcCTACCGAACGGTCTCCCTGACCTCAGCACTGGTGTTGGCGGGAATGCTACCTCTTCACCTCAGGGTACGCGAAGTCGCGTCCCTGTATGAGGCCAAGAGGGGGCTAGTCCACC--CGGTGCTGGGCGACAGGGATATCGAGCGGATGGCCTCCGCCCTTGATGCAGACCATCCAGCATCACAGACGGGGCT------AAGGTTCG--GACTGATAGA--TGGTGACGAAGGCGAAGATGTAT-GCTCATCGTACGATGCGCGCATCTTCACCGACGGAAGCAAGATTGACGGCAAAGTCGGAGCCGCACTATCCCTATGGAATGGCGCGGTCGAGAC;s GCA_963855885.1.OY979644.1 23651 1968 - 15425852 AAAGTTCGACTTACCATGGTGGACTGACGAACTTGAGGCCCTAAAGAGAGAGGTGATGACGAAGAAGCGGAGAATATCCTGCGCAGCACCACGTCGAAGGCAATTCGTCGTCGATGAGTACCTGcggacaaaagaaaaatatgaacttGCAGCATTAAAGGCGCAAA--CCGAGAGCTGGAAAGAGTTCTGTGGGAAACAGGACCGCGAAAGCTTGTGGGATGGGATATACAGAGTCATAAGAAGGACCTCTAAAATATATGAAGACCATCCCCTCATTGACAGCGGCGCGGTCCTGAGTCCTAGAGACTCGGTCCAGCTCTTGGCTAGGACATTTTTTCCGCGGGACTCAGAGACTGACGATGA--------CCCTTTACACACGGAGACGCGGCGGATGGCTGAACGATGTACGGACGACAGCCCGGAGGGCGTCCACGATCCACCTTTTACTTTTGACGAGCTGCTGAGGGCGGCCAAAAGTTTCAATCCCAAAAAAGCGCCTGGAGCCGACGGCTTCACGGCAGACATTTGTTTGGCCGCCATCAGCGGGGACGAACACGTATTTTTC---GGTTTGGTAAGCAGGTGCTTCGCCCTGTCATACTTTCCAGTATCGTGGAAGGAGGCGACGATAGTAGTCCTACGGAAGCCGGGCAAGGATGATTACACTAAGCCCAAATCCTACAGGCCCATAGGACTGCTATCGGTCTTCGGGAAGATACTGGAAAAGATGATAGTTAAAAGGCTTCGGTGGCGCCTCCTTCCCAAACTGAACACCAGACAATATGGGTTCGTCCCCCAACGCTCGACGGAGGACGCCCTCTACGACCTCGTTCAGCACATCCGCGGCAACTTAGAGAA--CAAGAGGATAAGCGTGGTGGTCTCGTTGGACATTGAGGGGGCATTTGACAGCGCGTGGTGGCCGGCGATCAAATGCCGGCTAGTGGAGAAGAAATGCCCCCTCAATCTGCGCAGGATATTCTCAAGCTATCTTGAGAACAGAAGGGTGTGTGTGAGGTACGGAGATGAGGAGTTCCGTACCTCCACCACCAAAGGTTGTGTCCAGGGGTCCATAAGCGGGCCCATACTTTGGAACCTGCTTCTGGACCCCCTGCTTGTTTTGTTG--AGCGAACGCGGCACTTATTGCCAAGCGTTCGCTGATGATATAGTTCTGGTTTTCTCGGGGTTCCAAACCGCAAATATAGAACGGGAAGC-------TGCCCAGGTACTGACCTGTGTGTATGAGTGGGGTCTCGCAAATAAGCTGAGGTTTGCCCCTCACAAAACAAGCGCGATGGTGGTAACCAAGAAGCTGAAGTTCGACACCCCGCGCATACACATGGGCGGTACCCAGATTGAAATCGTTAATGAAATAAAGATCTTGGGCCTTTTGGTAGACTGCAAGTTGACATTTAACAACCACGTCAGGGCAGTCTGCCAAAAGGCCACAAACATCTACAAGCCCCTAGCTAGGGCAGCAAAAATTAACTGGGGGCTGAACCCCGAGACAATCAGAACTATCTACCAAGCTGTGATTGAGCCTATAATTATGTATGCGTCCAGCGTATGGGCACCGGCCACACAGaagattaccataaaaaagcaGCTAGACACGGTGCAGCGCGGTTTTGCGCAAAAAATCTGTAAATCCTATCGCACTGTGTCGCTTAACGCTGCGCTTCTGTTGGCCGGTCTCATACCGCTGGACTTGAGAGTGCAGGAAGCGGCTCAACTGTACGGGGCCAAGAGGGGAT--GTCCACAAGCAATTCTGAGCGGCAGGGAGGTCGAGAAGAAGATCAGCTTTCTCGAAGCTCCGCACCC-----CTCAGAGGAGGCTGTGGTGGAGTTTCGGTGTCTGGAGGACTTGGAGCCGGAAACTGTGGCGTCTCACGCGATGACCGGTCTGAGGATATTTACAGATGGTAGCAAAATGGAGCGTGGAGTGGGTGCGGCTCTAACTTGCTGGATGGATGGAGAGGAGAC;\n",
      "OY971414.1\t18249\t18863\ta score=11527.000000;s GCA_963853865.1.OY971414.1 18249 614 + 34208996 AAACTTGCTCTCTCGTCATATTGCACCGTTTATCAGGCCGAACTTCTGGCTCTGTCTAGGGCGGTGGAGGAGGCAAAAAAGCTCGGTGTGGCAAGGGTGGGCGTATTCAGCGACTCCAGGTCTGCCCTCCAGGCAGTCACTCTG-------GATTccccccacccccTGGCCGTT-------AAGACAGCTAGCATCATGAGAGAATGCTCAAAATACAATCAgcaaatagatttattttggaTAAAGGCACACAGGGGGTACACAGGGAATGAGAGAGCGGACCAGTTGGCCAAGGAGGCAGCCTTGGGGTTGCGGGTGCGCCCGCATTACGATCTGTGCCCCGTCTCATATGTCAAGCGCTGCATAAGAGAGGCAACGATTGACATATGGGATGAGGAGTACGGACGGAGCGAAACCGGCGCCATAACCAAAATATTCCTTCCAAATGTTAAAGCGGCATACAAAACCGTAAGGAAAC-----TTGATATCGATAAACACGTGACACAGTTGCTGACGGGGCATGGAGGGTTCTCCGACTACTTGGAGAGATTCAAGTGTAAGGAGGACCCCTCATGCGTCTGTCAGCAAGGAGTGAGAGAGACGGTTCCCCATCTCCTGTTCGATTGCCC;s GCA_963855885.1.OY979644.1 25629 617 - 15425852 AAGTTTCTTCTCCAATCCTATTGCACTGTCTACCAGGCGGAGCTGTACGCACTCTACCAAGCAACAGAAGTTGCCCTTAAGACCAGGGAGAcatctgtgaatatcctcagCGATTCAAGGTCTTCGCT----GGAGACGCTCGGCAGCGCCGAAACTTTCCACCCGCTGGCCTTTGCCACTaaaagaaatttgtctcttttaaGG--GCTAAAGGTACGGC-----AATCAGTCTCTTCTGGGTGCGTGCGCACAAAGGTTTAGAGGGCAACGAGAGGGCTGACTTCTTGGCCAAAGAGGCGGTTATGAAGCTCAAGACCAGACCACATTACGACAGTTGTCCAATCTCATTTATAAAGAGAACCATAAGACAGGAAACTGTCGTGAAATGGTCTGGTCGCTACGCGAGCGGAGAAACTGCCTCCGTAACCAAGACCTTCCTGCCGACAGTTGAAAAAGCGCGAtcctttttaaagaaacaaaCGCTGACTCC-----CCTCTTGGTGCAGGTACTTACGGGACACGGCGGGTTTgcggagtacttgcacagattcAAGTGCAAGGATAGTCCCGGCTGTGTCTGCGACGACGGCGTCGCAGAGACAATTTTACACATGATAATCGAATGTCC;\n",
      "OY971414.1\t21627\t21851\ta score=5849.000000;s GCA_963853865.1.OY971414.1 21627 224 + 34208996 GCCATACGAAGACCTACCACGGAGGCTTCGGGTAGCCCTCCACCGAGAGTGGAATACCCCACTAgagttgctgaggcaagagcatGCCTAAATAAGGCAAAGCTCCATCTCAGTAACTCTAGAAACTTGAAGACCGAAATAAAGGAAGGGGTCACCTCAGCGGTAGAACGCCTTTACCAGCTGGTGAAAGAGTCAGAGTCGCAGGAGCGCAAAGGGAAGAGTCT;s GCA_963855885.1.OY979644.1 29117 216 - 15425852 GCCGTACGTAGGGCCTCTTTTGAGCTTGCTAGATCCCCTCCGCCGAAACCTAAATATGGCAGCAGACCAGCCGAAGCAAAGGCCTGCCTAATAAAGGCAAAAACCCTATTAGGCGAGTCGCGGAACTTGAAGGCGGACATCAAGGCCGGGGTCACACAAGCAGTGGAGAGGCTCTACAGACTGGTAATAGAA--------GCAGCAGCAACAAAAGAGCAGTCT;\n",
      "OY971414.1\t21916\t27100\ta score=156540.000000;s GCA_963853865.1.OY971414.1 21916 5184 + 34208996 CTCTACAGGCAGATCCCACTCAAAACCCCCTGATTCTGAAACTGGAAGAGCATAGTAA-GCTCATCCAGAATAACATGCAGCAAATGGAGATTCTCAATAAAAACTTAGAGAATCACCAAAAAACCCTCGA---------------------------------GGGGGTGACAAGAACGTACGC--------------------------GAGTGTAGCTGCTGGTAACA---GCAGAGGCAG---GCC-ATCAGAGCAGCCCA---------CGCTGCACTCGGTAGTCGTCACCTCCAAAGACGAAACTGAAACGGGGGAGGAAGTGCTAAACAGAATCAGgaaagccgtcaacgccaaagaaggTGGCGTTGAAATTGAAAAGATAAGAAAGGCGAAGGATAGAAAAGTCATAGTCGGGTGTAGAAATGAATCGGAAAGACAGAAAGTAAAGGATAGGCTGCGCAAAGTAGAGA---ATGAGTTAAGCGTAGCAGATGTCAGAAACAAAGatcctttaataattttaaaggatGTAATGGTGTGCAACAGCAACGAAGAAGTATTGAGTGCCTTACACAAACAGAACGAAAAGATCTTTAAGGACCTCAACAAAGATCAAAACCGATTTGAgatcatttttaaaaagaaagctcGTAATAAACTCCTGCAACATCTAATTTGTAG----GGTTTCACCAACTATCTGGACCCGCATGATGGAAGCAGGAGCCGTCCATGTCGATATACAAAAGATCCGAGTGGCGGATCAATCGCCACTCGTCCAATGCTCAAATTGCCTGGGGTATGGccataccaaacgggtttgCAAAGAGAAGTCCGAGGTATGCAGCCACTGCACCGGTCCCCACAAAAAACTGGACTGCCCTAAATGGCTTGCAGGTGACATCCCGAAATGCTGCAATTGTGCACAGGCCAGGATGGACCGGACTGAGCATAATGCTTTCAGTCTGGACTGCCCTATAaggcgtaaatgggatgcactggccagagCAATGACAACGTATTgctaagggcgtcccaggcaaa-aTAATGGTAAAGAATCACCCACCC-----ACCGGAGGATCATATTTAGTAGTGCAGGCCAATCTGCAGCGAAAAGAGCTCGCTACAAATGAGCTCATATTGGAAGTCACTAATAGAAACATAGCCATAGCGCTGCTCCAGgaaccgtatgtggggggtatcaaaagaatgaaggactacaggggagtaagaATCTTCCAGAACACTAGCCCGGGAGACGAGACGGTCAAAgcggctattgccgtctttgaccaagacttagaaatcgtacagtgcccgtctctcaccaccaataacatcgtggtggtgaaagtCCGAACCACGGCATGGGAGATGACCCTGTGCTccttctactttgaacccgaccaacccatagagccgtatctggagcagattaaaataacacacaaagaactaggcccaaaaagattcataatgggcggtgactccaacgcaaaaagtacctggtggggaagtgaaacTGTGGACCATAGAGGCAaggacatggccggaactctggccgagatgaacttgcaggtgctcaacgatggagatactccgaccttcgacacagtgaggggtggcaggagaatcacgagccacgtagacctcaccgCGTGCACCGAGGATTTGCTAAACCTCGTGCAGGATTGGAGCGTAGCGGATAATCTCACGAGCTCGGACCAtaatggtatagtcttcaaaattaatctgcaaaaaacacaaggtattttaatcaatagaacCACGagaaaatacaacacaaagaaggccaactgggaccagtttcatgagaaactggcccagctcatgctggaaaaccaaataaacaaaatagaaatagaccaaattagaaacaaaacagaacTCGACACAATTACAAAtagtttaatagagcag--attATACACACTAGTAATGGAACCATacccattaagaaaaatattcaaaggccaaacttaccatg--gtgga---acgatAAACTCGATGGGATGAAACGTagcgtagccacgaggaagcgtagaatccgatgtgcggcaccCGTTCGAAGACCGAAAGTCGTCGAAGAGTATCTGCAGGCCaagaatgaatacgagcttgaggcaaaaaaggcacaaatagacagctggaaagatttttgtaagaaacaggataaggaaggtgtatgggagggcatatacagagtcattagcaaaacgacaaaacggcaagaagatctgccactcgtgaaagacggggtgtgtttagaccctgctgactctgccaaaatcctagcggagaccttctatccggaagatcttgaaactgaagatatcccgagccataggcacatgcgagcattggcaaaccgcgtaaacgatgatgtccatgatgaagttcatgacccaccgtttacgatgggcgagctaaaagccgcagtgggaagtttcaacccgaagaaggcccccggtggggacggccttactgCAGATATATGCAGCCAGGTGGTAGCCaaagatcctgaactccacctggcacttatgaacaaatgtctcggattgggccactttccaaccatatggaaagaagctacagtcgtagtcttgcggaagcccggtaaggacgattatactagcccaaagtcttataggcccataggccttctaccggtcatgggtaagattctggagaagatgatagtcggaaggctaaaatggcacttactgccgaaaatgagcacccgccagtacggctttatgccccaaaagagcaccgaagacgccctctatgacctggtgcaccgcatacgaagtggtctagaagacaaaaagctcgtcactgtggtgtcgctggacatagagggggccttcgacaacgcttggtggccggctattaaagtcagactggttgaagaagggtgccctgtaaatctgaggcgaatcatggacagctacctgcaggaccggaaagtccgtgtcaggtacgctggacatgaatatatcaaaaacacccaaaaagggtgtgtgcagggctccatagggggcccaattctctggaaccttctccttgacccgttattaaagaacctagaaaataggggctatgactgccaggcattcgcagacgatgtagtgatggtgtttgtcggcagcacggcgctggaggtagaaagccgtgccaacgcggccctctctttggttcggtcgtggggcgtcgagaataagttaaactttgctccgcaaaaaacaaaagcgatgttgctaacgaggaaacttaaattcgacgtcccgcggctgaccatgggaggggtggagattggCATGGAAAAAGAGAtcaagatattggggctcacaatagaccataaattgacatttaatagccattcctcgaacatctgtaggaaggctattaatatatacaaacaactgtcaagagccgccaaagtaagttggggactccatcctgaggtcgtacgtgtcatatacacggccacggtggagcccattgtctcttatgccgccagtgcatgggccccggcaactaataaactcggagtgcaaaaacagctaaatgcagtccaaaggggtttcgcccaaaagttgtgtggagcctaccgcaccgtctcgctgaactcagcgctggcgctgactgggcttctgcctctcgacattcgcatacgcgaagccgcatcattgtatgaggcgaagagaggagtaccccagccagtgctaggaggcggtgaggttgaaagaaaaacggcctacagcttggccccgcatcctgctggacatatggacatgaacttcataagtctggtggaccaacaagaagtggatacCCACGTTTACCAtgcggtacaattttacaccgacggcagcaagattgagggcaaggtgggtgccgcattgtctgtaagaagcaatgaggccgaaactaaagccatcaaacttaaactgccgtcgtactgcacagtctaccaggcggaacttctggccatatgtcaagcaacacggttaattttacggcaggatgaaatgagtttcgccatcataagcgactcacgctctgccctcgagacagttgtgaattcttactccctgcaccccttagctgtcgaaagtagaagcaatatttatagaagtagactccagaacaaggaagtgtccctgttctggatcaaagcacatgcaggacttatagggaatgaacgcgctgaccacctagcgaaagaggccgccctcaaactaaagaggaaacctgactacgatcagtgtccggtttcgtacgtcaagaggtgcatccgaatggagtcccttgacgaatggaaccgacgctatcagtcaggtgagacagcggccgttacacgaatgttcttcccggatgcgattaaagtctataaaattgctaggaaaatcaaaccagctggtataatcacccaggttctgacggggcacggtggtttttcaggttacctgcaccgttttaagtgtaaggataccccatcgtgcatctgcgaacctggagtggaagaaactgttgcccacatcctttttgaatgtcccgtgacagcaggagtgcgattcgacacagagcaggctctagattgtgAAATTAGCCAGAATAATGTTGAAAGGCT----GATTGTAGAAAATGATTTAAGAcaaggttttattataatattttgttaagatTGCAAGCCAAGTTAtcgcaaggaacaggcagtgttgaatgtctactttgcaagtatacattttcaacactgcaagttggattttaagagtgtgcttgcaatcgaaagattgtaatattattagtgttgaaattaatattgttttatataagagAGCCTGTTAAATGTACTGTatagcctgacattgtatgtataatgataatttagctggcaaatgataCGTCCAGCGATCAGACGtcgtaaaaatacatttacgtaatattattttactatatacaaacatgtttttatacaattgtgaattaataaatattag------aaataaaataattctctg--attacgtcagaggcgacacgcgggccgggccattaagcgcccggacataaaaaaaaaaaaaaaaaaaaaaaaaaaaaaaaaaacctaacctaacctaacctaacctaacctaacctaacctaacctaacctaacctaacctaacctaacctaacctaacctaacctaacctaacctaacctaacctaacctaacctaacctaacctaacctaacctaacctaacc;s GCA_963855885.1.OY979644.1 29400 5050 - 15425852 TTCCGCGGATAGAGTTGATTAAAGATCTC---ATTAAAAATATCCAAGAGCACAGCGACGCACTGGCAGAGTG-CAAGAAACATACAATCGCTCTATCTGCGGATATAAAACAGATCCCGAGGCCCCTCGAATGTGAGCAGGGCCTATCGTATGCTGAAGTTGCGGGGCTGTCAAAATCCATCGCCGACCTAAGAAGTGACCTCGGTAGCAAAGCCTTACCGCAGCCAACCTACGCGGAGGCGGTCGGCCGACCAAAGTTGGCCAATACAGCGCCCCTACACTCTATAATAGTCACATCAGACGACAAAGAGGACTCGAGCCAAGAGCTCATAGTAAAGATCAGGGACGCTGTGGATGCAACGAATAGTGGCATCCGCGTGGATAGGCTACGGAAGGCAAGAGACCAAAAGGTCATTATAGGGTGCCACAGCAAAGAGGAGCTAACAAAGGTCAGCGA--GGCTGTTAAATCCAGCAATCTCCAAGTCAA-------AGAGGCACAGAATAGGGATCCTCTTATTATCGTAAAGGACATTCTAGCCATCCATACAGACGAGGAGATTATAAAGGCACTCAAGAAGCAAAACAGCCACTTGTTCGTCAACGTCCAAGAACAGGAAATGAGAGTCGCCGTCCGCTATAGACGGAAAGC----AAGGAATCCGCACACCACCCACATCGTAATGGAGGTGTCCCCCACGATATGGCAGCTCCTCACCGCGGCGGGTCAAGTACACGTCGACCTACAGCGACTGCGCGTCGAGGACCATTCGCCGTTGGTGCAGTGTTCGCTGTGTTTGGGGTACGGGCACAGCCGGCGCCTCTGCAAGGACACCGTAGAGAAGTGTAGTTACTGCGGAGGCCCTCACAAGTGGGCAGAGTGTGAAAATCGACTCTCGGGCGATGCTCCGACATGCTGCAACTGTAATAAGGCGAAGCTGACTGCAGCGAATCACAATGCCTTCAATCAAGATTGCCCCATCAGAAAAAAGTGGGACGCCTTAGCTCGCGCTAATATTGCATACTGCTAAGGGCGTCCCAGGCAACCAAAATGCAACCAAGTCGACGACCTCCCATACCAGTAAGCTGTATAGCGTACTCCAGGCAAACTTACAGCGGAAAGAACTTGCTACGAACGAGCTAATGCTAGAAGCAGCCAAAAGAAGAGCAGCCCTTGCGCTGCTTCAGGAGCCATATGTGGGCAGGTCAAAATGCCTGAAGAGTTACCGGGGGGCGAGGGTCTTCCAGAGCGTAAACCACGGGGACGGCACTGTCAAGGCGGCTATTGCCGTCTATGATCCAGACTTAGATGTACGGCAGTTCCCAAAACTCACCACGAATAACATCGTAGTGGTGAGCCTTCATACTTGCGCATGGGAGATCACCGTGATCTCGTACTACTTTGAGCCGGACCAGCCCATAGAGCCATACTTGGAGCAGCTCAAGCTCATACAAAAAGAACTTCAACCAAAACTGCTTCTCATAGGAGGGGACGCAAACGCTAAAAATACCTGGTGGGGAGGGGACACAGTCAACTGGCGGGGTGAAGACATGGCTGGTACTATAGGTGAAATGGGTTTACAGGTGCTCAACGAAGGAGACATCCCCACTTTTGATACCGTTAGAGGAGACAAACGCTTTTCCAGCTACATTGATATCACGGCTTGCACAGTGGAGATGCTCAACTTGGTTGAGGACTGGAGAGTGGACGAAACTATCACAAGTTCGGACCACAACACTGTAACTTTCAACATAAGTTTGACTAAGGCCAAAGGTACGAGCATCCAGAGGACTACACGGATTTATGGTACCAAAAAGGTTAATTGGCCCCAGTTTCATGAGAAACTGGACCAGTTAAAAACAGAGGGCgccataaataaagaaaaagctgaAAGCATTACCAACACAAGGGATTTGGACTCgttgacggaggggt--atgcagCTGTCGTCAAAAAGACGTGTGAAG-----ATACCCTTCCGAAAAAGAAATCCAAAGAAAAACTTACCCTGCCGTGGATGTCCGACGAACTCTACGCCTTGAAGAAGGAGGTCCTCACCAAGAAGCGACGTATCCGTTGTGCAGCGCCAGTCCGGAGAGCGAAGGTGGTTACTGAGTACCTGGAAATCAAGCAGAAATATGAGATGGAGGTCAAAACAGCGCAGGTGGAAAGTTGGAAGGTATTCTGTGGAAAGCAAGACAGGGAAGGAGTATGGGAGGGAATCTATAGAGTTATGAGTAGGACCGCCAAGAGACAAGAAGACTTGCCTCTCGAGATAAACGGAAGGACTGTGGACCTTCGGGACTCAGCAAAAGTGCTGACTGAGGCCTTCTACCCGGATGACTCGACAGCATGTGACTCTTTACATCACAGACTAGTCAGAGAGCGGGCCGACCGCGTAAGCGCTGATTCCGGTGATGGGAACCGGGACCCACCGTTTACGATGGTCGAGCTCCGGTCCGTGGTGGAAGGCTTCAATCCGAAAAAAGCCCCGGGTTCAGATGGCTTTACGGCCGACATCTGCAAACATGCAATATCCCAGGATCCGGAGTTTTTCCTGTCACTGGTCAACAAATGTTTGGAGTTAGAGCACTTCCCGACCATCTGGAAGCAAGCAACAGTTGTGGTCTTACGTAAGCCGGGTAAGGACAATTATAGCGACCCAAAAGCTTACAGACCAATAGGTTTGTTACCAGTGATGGGAAAGATTCTGGAAAAATTGATCGTAGGTAGACTTAAATGGCACATTCTCCCAAGGCTTAGTACTCGCCAATACGGATTTATGCCCCAAAAAAGCACTGAGGACTCCCTCTATGATCTAGTGAACCACGTGCGACAAAAAGTAAACGCAAAAAAGCTGGTGGTAATGATTTCGCTGGACATAGAGGGAGCCTTTGACAATGCTTGGTGGCCCGCAATCAGAGTCCGTTTGGCTGAGGAAAAGTGCCCTATTAATATACGGAGAATTGTCGATAGCTACCTACGAGATAGAAAGGTCACAGTCCGATACGGTGGTGAAGAGCACACAAAGAGCACGTCAAAAGGGTGTGTGCAAGGCTCGATTGGCGGTCCTATTCTATGGAACTTACTCTTGGATCCCCTGCTCAAAGGCCTGGAAAGTAGGGGCGACTACTGCCAGGCCTTTGCGGATGATGTCGTCCTCGTCTTTGATGGTGATGAGGCGCTCCATATCGAGAGACAGGCCAATGATGCCCTCGCCTATGTTCGGGATTGGGGCGTCAAAAATAAGCTAAACTTTGGTCCATCTAAAACAAAAGCCATGGTCATCACGAAGAAGCTGAAATATGACGTCCCAAGACTGAGCATggg-ggggTCAGCATTGGCATGTCCGAAGAAATAAAAATCCTGGGGCTCTACATAGATCACAAATTAACATTTAATAAGCATGTAACGGAGGCGTGCAAGAAAGCTGTAAACGTCTATAAACAGCTTTCCAGAGCAGCCAGGATTAGTTGGGGCCTCCATCCAGACGTCATCCGCACAATATACACTGCGGTAGTAGAACCTATTATAATGTATGCCTCCGCCGCCTGGGCGTCGGCAGCAGAAAAGTTGGGGATTCAAAAGCACCTCAACAATGTGCAAAGAGGCTTTGCTCAAAAACTTACTCGAGCATACAGGACCGTCTCCTTAAACTCTGCCTTGGTGCTGTCCGGTTTGCTCCCTCTCGACCTCCGTATAAGAGAAGCAGCTGCACTCTACGAGGCCAGGAG-GGGGTGCCCCGGGCTGACCTGGGTGATAGAGAAGTGGAACGTGTCGTTGTGTATGCCAAAAATCCCCATCCGGCGGAACATATGAGCTTGGAGTTCATGAGCCTGGTAAACCAAGAGCAAGTCGATAGCCAAAATGTGCAAGCTATTCGCATATATACGGATGGCAGCAAAATTGACGGCAAGGTCGGAGCAGCGCTATCAGTGTGGAACACCGAAACCGAGATAAAAGCTGTCAAATTGAAGCTGTCTCCGTATTGCACGGTTTACCAGGCGGAACTTCTCGCCATATACGAAGCCACGAGGATGATGTTAGACAGGAAAGAAAAAAGTTTTGGCATATACAGCGACTCGAGATCCGCACTGGAGACGGTTGTAAACAACGCCTCGATGCACCACCTAGCCGTCCAGTCGCGGGCAAATATCGCCATTGGCAAACTCCAGAACAAGATGATATCCTTGTTCTGGATAAAAGCACATGCCGGACTGGACGGAAATGAGCGAGCCGATGCCCTAGCAAAGGAGGCAGCATTAAAAACTAAAGTAAGACCAAATTATGATCTGTGCCCGGTTTCATTCGTCAAGCGACAAATCCGCATGGAGACGCTTGACGAATGGAACCGGCGGTATCAAACCGGGACTACCGCAGCCACGACAAAACTCTTCTTTCCAAACGCCGTCAACGCTTACAAAGTAATAAGGACCACAGAGCTGACAGGTGTGCTAACACAAGTTCTGACGGGGCACGGTGGATTCGCAGATTATCTAAACAGATTTAAGTGTAAGGAGAGTCCATCGTGCATCTGCGACCCCAACGTAAAAGAGAGTATCACGCATTTACTGTTTGATTGCCCCATAAACTCCAGATTAAAATACGACGCCGAGCATCGAACAGATGATAAAATCTGCGCAGAGAATGTAGCAAACcttataaattgta-aaaataa---aagagaACAATTTATGA------------AATACTGCA-------------------------------------------TACAAGTA---------------GCAA-----------------------------AAAGG-------------Agtatagaaagaaata-----------aatagggACAGAGAAATGAAAGCAATAGACATGCAATATA---------------------------------------GATcg------gtaaaaat-----------atataaaatcgcAAGACGCAGAC----------AAACTTaagaattacaaaataatagggcaaaaaaaaaaacgactctGAGGAATTTTGTCAG----------------GGGAAATcgaatgt-------taaaataaaaaaaaaaaaaaaaaaaaaaaaaaaaaacctaacctaacctaacctaacctaacctaacctaacctaacctaacctaacctaacctaacctaacctaacctaacctaacctaacctaacctaacctaacctaacctaacctaacctaacctaacctaacctaacctaacc;\n",
      "OY971414.1\t33733\t33806\ta score=-414.000000;s GCA_963853865.1.OY971414.1 33733 73 + 34208996 gcaagccaagtgattgcaaggaacaggcagtgttgagtgtctactttgcaagtaaacaccctcaacacagcaa;s GCA_963855885.1.OY979644.1 74154 53 - 15425852 GCtaaaagaataataaagaaaaataaa--------------------gataactaataatatcaacataataa;\n",
      "OY971414.1\t33838\t34143\ta score=2801.000000;s GCA_963853865.1.OY971414.1 33838 305 + 34208996 gaatgta-attatagactgtttttaaagtaatat------------tgttttatataaagagcctgtttaatgtattaatatgtattaata---gcctgacattg--tatgatattttagctggcgaataaaaacggccagcaatcagacctcgtaattatgtttaaattacgaaaatttttaaatatacaatctaaatgttttattattgta--agaaataaatgaataaaagatattatatctctgattacgtcagaggcgacacgcgggccgggccaattaagcgcccggacaaaaaaaaaaaaaaaaaaaaaaaaaaaacc;s GCA_963855885.1.OY979644.1 74228 279 - 15425852 gaatatatatggcatattatatataaggtattatgaagactcaatgtattttatatattgag---gtagaatatatcaacttacatgagtatatatattacattgtatataatatgatag-----gaataa-----------------------ttattatatat-atttattattatttataaattattaatcaaaTTGGAACAACAACATAATAAAAACGAATG-ATAAAAAA------GTCTCCGTTCA-ATCGGAGGATGCA-GCATTCTCCTCCAACtgga-----gaataaaaaaaaaaaaaaaaaaaaaaaaaaaacc;\n"
     ]
    }
   ],
   "source": [
    "! head ../tmp/GCA_963853865.1_ilHelHell1.1.GCA_963855885.1.synNet.sorted.bed"
   ]
  },
  {
   "cell_type": "code",
   "execution_count": null,
   "metadata": {},
   "outputs": [],
   "source": []
  },
  {
   "cell_type": "code",
   "execution_count": null,
   "metadata": {},
   "outputs": [],
   "source": []
  },
  {
   "cell_type": "markdown",
   "metadata": {},
   "source": [
    "### Goal\n",
    "- measure the intersection of coding and non coding genes with the chain alignment\n",
    "- measure the size of the chain alignment compared to Hh genome size\n",
    "- test for significance of non coding element conservation "
   ]
  },
  {
   "cell_type": "markdown",
   "metadata": {},
   "source": [
    "### Material"
   ]
  },
  {
   "cell_type": "code",
   "execution_count": 81,
   "metadata": {},
   "outputs": [
    {
     "name": "stdout",
     "output_type": "stream",
     "text": [
      "00_dw_chains.sh\n",
      "01_covert_bb_to_bed.sh\n",
      "02_keep_three_cols.sh\n",
      "03_merge_overlaps.sh\n",
      "GCA_963853865.1_ilHelHell1.1.chainGCA_963855885.1.bb\n",
      "GCA_963853865.1_ilHelHell1.1.chainGCA_963855885.1.bed\n",
      "GCA_963853865.1_ilHelHell1.1.chainGCA_963855885.1.merged.bed\n",
      "GCA_963853865.1_ilHelHell1.1.chainGCA_963855885.1.short.bed\n",
      "GCA_963853865.1_ilHelHell1.1.chainLiftOverGCA_963855885.1.bb\n",
      "GCA_963853865.1_ilHelHell1.1.chainLiftOverGCA_963855885.1.bed\n",
      "GCA_963853865.1_ilHelHell1.1.chainLiftOverGCA_963855885.1.merged.bed\n",
      "GCA_963853865.1_ilHelHell1.1.chainLiftOverGCA_963855885.1.short.bed\n",
      "GCA_963853865.1_ilHelHell1.1.chainRBestGCA_963855885.1.bb\n",
      "GCA_963853865.1_ilHelHell1.1.chainRBestGCA_963855885.1.bed\n",
      "GCA_963853865.1_ilHelHell1.1.chainRBestGCA_963855885.1.merged.bed\n",
      "GCA_963853865.1_ilHelHell1.1.chainRBestGCA_963855885.1.short.bed\n",
      "GCA_963853865.1_ilHelHell1.1.chainSynGCA_963855885.1.bb\n",
      "GCA_963853865.1_ilHelHell1.1.chainSynGCA_963855885.1.bed\n",
      "GCA_963853865.1_ilHelHell1.1.chainSynGCA_963855885.1.merged.bed\n",
      "GCA_963853865.1_ilHelHell1.1.chainSynGCA_963855885.1.short.bed\n"
     ]
    }
   ],
   "source": [
    "# chains were downloaded from ucsc, converted from bigBed to bed, and only the first three columns kept, and merged to avoid overlaps\n",
    "! ls ../data/../data/bb_chains/"
   ]
  },
  {
   "cell_type": "code",
   "execution_count": 82,
   "metadata": {},
   "outputs": [],
   "source": [
    "chains = {\n",
    "    'chain_main' : '../data/bb_chains/GCA_963853865.1_ilHelHell1.1.chainGCA_963855885.1.merged.bed',\n",
    "    'chain_liftover' : '../data/bb_chains/GCA_963853865.1_ilHelHell1.1.chainLiftOverGCA_963855885.1.merged.bed',\n",
    "    'chain_rbest' : '../data/bb_chains/GCA_963853865.1_ilHelHell1.1.chainRBestGCA_963855885.1.merged.bed',\n",
    "    'chain_syn' : '../data/bb_chains/GCA_963853865.1_ilHelHell1.1.chainSynGCA_963855885.1.merged.bed'  \n",
    "}"
   ]
  },
  {
   "cell_type": "markdown",
   "metadata": {},
   "source": [
    "#### Convert gtf to genepred"
   ]
  },
  {
   "cell_type": "code",
   "execution_count": 10,
   "metadata": {},
   "outputs": [],
   "source": [
    "alias = 'https://hgdownload.soe.ucsc.edu/hubs/GCA/963/853/865/GCA_963853865.1/GCA_963853865.1.chromAlias.txt'\n",
    "gtf_coding_ann = '../data/annotations/HEHEL1A.FA.gtf'\n",
    "gtf_coding_ann_gbnames = '../data/annotations/HEHEL1A.FA.gbnames.gtf'\n",
    "\n",
    "gtf_NONcoding_ann = '../data/annotations/HEHEL1ncA.gtf'\n",
    "gtf_NONcoding_ann_gbnames = '../data/annotations/HEHEL1ncA.gbnames.gtf'"
   ]
  },
  {
   "cell_type": "code",
   "execution_count": 11,
   "metadata": {},
   "outputs": [],
   "source": [
    "! chromToUcsc -a $alias -i $gtf_coding_ann  -o $gtf_coding_ann_gbnames\n",
    "! chromToUcsc -a $alias -i $gtf_NONcoding_ann  -o $gtf_NONcoding_ann_gbnames"
   ]
  },
  {
   "cell_type": "code",
   "execution_count": 14,
   "metadata": {},
   "outputs": [],
   "source": [
    "gtf_coding_ann_gbnames = '../data/annotations/HEHEL1A.FA.gbnames.gtf'\n",
    "gtf_NONcoding_ann_gbnames = '../data/annotations/HEHEL1ncA.gbnames.gtf'\n",
    "\n",
    "genepred_coding = '../data/annotations/HEHEL1A.FA.gbnames.gp'\n",
    "genepred_NONcoding = '../data/annotations/HEHEL1ncA.gbnames.gp'"
   ]
  },
  {
   "cell_type": "code",
   "execution_count": 15,
   "metadata": {},
   "outputs": [],
   "source": [
    "! gtfToGenePred $gtf_coding_ann_gbnames $genepred_coding\n",
    "! gtfToGenePred $gtf_NONcoding_ann_gbnames $genepred_NONcoding"
   ]
  },
  {
   "cell_type": "code",
   "execution_count": 16,
   "metadata": {},
   "outputs": [
    {
     "name": "stdout",
     "output_type": "stream",
     "text": [
      "HEHEL1A.FA.gbnames.gp  HEHEL1ncA.gbnames.gp   test\n",
      "HEHEL1A.FA.gbnames.gtf HEHEL1ncA.gbnames.gtf\n",
      "HEHEL1A.FA.gtf         HEHEL1ncA.gtf\n"
     ]
    }
   ],
   "source": [
    "! ls ../data/annotations"
   ]
  },
  {
   "cell_type": "code",
   "execution_count": 20,
   "metadata": {},
   "outputs": [],
   "source": [
    "anns = {\n",
    "    'coding' : '../data/annotations/HEHEL1A.FA.gbnames.gp',\n",
    "    'NONcoding' : '../data/annotations/HEHEL1ncA.gbnames.gp'\n",
    "}"
   ]
  },
  {
   "cell_type": "markdown",
   "metadata": {},
   "source": [
    "# Chain size"
   ]
  },
  {
   "cell_type": "code",
   "execution_count": 98,
   "metadata": {},
   "outputs": [],
   "source": [
    "import pyranges as pr"
   ]
  },
  {
   "cell_type": "code",
   "execution_count": 99,
   "metadata": {},
   "outputs": [
    {
     "data": {
      "text/plain": [
       "{'chain_main': '../data/bb_chains/GCA_963853865.1_ilHelHell1.1.chainGCA_963855885.1.merged.bed',\n",
       " 'chain_liftover': '../data/bb_chains/GCA_963853865.1_ilHelHell1.1.chainLiftOverGCA_963855885.1.merged.bed',\n",
       " 'chain_rbest': '../data/bb_chains/GCA_963853865.1_ilHelHell1.1.chainRBestGCA_963855885.1.merged.bed',\n",
       " 'chain_syn': '../data/bb_chains/GCA_963853865.1_ilHelHell1.1.chainSynGCA_963855885.1.merged.bed'}"
      ]
     },
     "execution_count": 99,
     "metadata": {},
     "output_type": "execute_result"
    }
   ],
   "source": [
    "chains"
   ]
  },
  {
   "cell_type": "code",
   "execution_count": 101,
   "metadata": {},
   "outputs": [
    {
     "name": "stdout",
     "output_type": "stream",
     "text": [
      "chain_main 543347348\n",
      "chain_liftover 538814006\n",
      "chain_rbest 537232709\n",
      "chain_syn 521113085\n"
     ]
    },
    {
     "name": "stderr",
     "output_type": "stream",
     "text": [
      "/opt/homebrew/Caskroom/miniconda/base/lib/python3.12/site-packages/pyranges/methods/init.py:45: FutureWarning: The default of observed=False is deprecated and will be changed to True in a future version of pandas. Pass observed=False to retain current behavior or observed=True to adopt the future default and silence this warning.\n",
      "  return {k: v for k, v in df.groupby(grpby_key)}\n",
      "/opt/homebrew/Caskroom/miniconda/base/lib/python3.12/site-packages/pyranges/methods/init.py:45: FutureWarning: The default of observed=False is deprecated and will be changed to True in a future version of pandas. Pass observed=False to retain current behavior or observed=True to adopt the future default and silence this warning.\n",
      "  return {k: v for k, v in df.groupby(grpby_key)}\n",
      "/opt/homebrew/Caskroom/miniconda/base/lib/python3.12/site-packages/pyranges/methods/init.py:45: FutureWarning: The default of observed=False is deprecated and will be changed to True in a future version of pandas. Pass observed=False to retain current behavior or observed=True to adopt the future default and silence this warning.\n",
      "  return {k: v for k, v in df.groupby(grpby_key)}\n",
      "/opt/homebrew/Caskroom/miniconda/base/lib/python3.12/site-packages/pyranges/methods/init.py:45: FutureWarning: The default of observed=False is deprecated and will be changed to True in a future version of pandas. Pass observed=False to retain current behavior or observed=True to adopt the future default and silence this warning.\n",
      "  return {k: v for k, v in df.groupby(grpby_key)}\n"
     ]
    }
   ],
   "source": [
    "for chain in chains:\n",
    "    gr = pr.read_bed(chains[chain])\n",
    "    total_size = (gr.End - gr.Start).sum()\n",
    "\n",
    "    print (chain, total_size)"
   ]
  },
  {
   "cell_type": "code",
   "execution_count": 102,
   "metadata": {},
   "outputs": [
    {
     "data": {
      "text/html": [
       "<div>\n",
       "<style scoped>\n",
       "    .dataframe tbody tr th:only-of-type {\n",
       "        vertical-align: middle;\n",
       "    }\n",
       "\n",
       "    .dataframe tbody tr th {\n",
       "        vertical-align: top;\n",
       "    }\n",
       "\n",
       "    .dataframe thead th {\n",
       "        text-align: right;\n",
       "    }\n",
       "</style>\n",
       "<table border=\"1\" class=\"dataframe\">\n",
       "  <thead>\n",
       "    <tr style=\"text-align: right;\">\n",
       "      <th></th>\n",
       "      <th>Chromosome</th>\n",
       "      <th>Start</th>\n",
       "      <th>End</th>\n",
       "    </tr>\n",
       "  </thead>\n",
       "  <tbody>\n",
       "    <tr>\n",
       "      <th>0</th>\n",
       "      <td>OY971414.1</td>\n",
       "      <td>7959</td>\n",
       "      <td>160728</td>\n",
       "    </tr>\n",
       "    <tr>\n",
       "      <th>1</th>\n",
       "      <td>OY971414.1</td>\n",
       "      <td>216380</td>\n",
       "      <td>2227712</td>\n",
       "    </tr>\n",
       "    <tr>\n",
       "      <th>2</th>\n",
       "      <td>OY971414.1</td>\n",
       "      <td>2376623</td>\n",
       "      <td>5293601</td>\n",
       "    </tr>\n",
       "    <tr>\n",
       "      <th>3</th>\n",
       "      <td>OY971414.1</td>\n",
       "      <td>5332730</td>\n",
       "      <td>11078899</td>\n",
       "    </tr>\n",
       "    <tr>\n",
       "      <th>4</th>\n",
       "      <td>OY971414.1</td>\n",
       "      <td>11650502</td>\n",
       "      <td>33443808</td>\n",
       "    </tr>\n",
       "    <tr>\n",
       "      <th>...</th>\n",
       "      <td>...</td>\n",
       "      <td>...</td>\n",
       "      <td>...</td>\n",
       "    </tr>\n",
       "    <tr>\n",
       "      <th>103</th>\n",
       "      <td>OY971438.1</td>\n",
       "      <td>219106</td>\n",
       "      <td>259722</td>\n",
       "    </tr>\n",
       "    <tr>\n",
       "      <th>104</th>\n",
       "      <td>OY971438.1</td>\n",
       "      <td>644817</td>\n",
       "      <td>964846</td>\n",
       "    </tr>\n",
       "    <tr>\n",
       "      <th>105</th>\n",
       "      <td>OY971438.1</td>\n",
       "      <td>1965471</td>\n",
       "      <td>2023230</td>\n",
       "    </tr>\n",
       "    <tr>\n",
       "      <th>106</th>\n",
       "      <td>OY971438.1</td>\n",
       "      <td>2023643</td>\n",
       "      <td>2040645</td>\n",
       "    </tr>\n",
       "    <tr>\n",
       "      <th>107</th>\n",
       "      <td>OY971439.1</td>\n",
       "      <td>0</td>\n",
       "      <td>15475</td>\n",
       "    </tr>\n",
       "  </tbody>\n",
       "</table>\n",
       "<p>108 rows × 3 columns</p>\n",
       "</div>"
      ],
      "text/plain": [
       "+--------------+-----------+-----------+\n",
       "| Chromosome   | Start     | End       |\n",
       "| (category)   | (int64)   | (int64)   |\n",
       "|--------------+-----------+-----------|\n",
       "| OY971414.1   | 7959      | 160728    |\n",
       "| OY971414.1   | 216380    | 2227712   |\n",
       "| OY971414.1   | 2376623   | 5293601   |\n",
       "| OY971414.1   | 5332730   | 11078899  |\n",
       "| ...          | ...       | ...       |\n",
       "| OY971438.1   | 2023643   | 2040645   |\n",
       "| OY971438.1   | 1965471   | 2023230   |\n",
       "| OY971438.1   | 644817    | 964846    |\n",
       "| OY971438.1   | 219106    | 259722    |\n",
       "| OY971439.1   | 0         | 15475     |\n",
       "+--------------+-----------+-----------+\n",
       "Unstranded PyRanges object has 108 rows and 3 columns from 26 chromosomes.\n",
       "For printing, the PyRanges was sorted on Chromosome."
      ]
     },
     "execution_count": 102,
     "metadata": {},
     "output_type": "execute_result"
    }
   ],
   "source": [
    "gr"
   ]
  },
  {
   "cell_type": "code",
   "execution_count": null,
   "metadata": {},
   "outputs": [],
   "source": []
  },
  {
   "cell_type": "code",
   "execution_count": null,
   "metadata": {},
   "outputs": [],
   "source": []
  },
  {
   "cell_type": "code",
   "execution_count": null,
   "metadata": {},
   "outputs": [],
   "source": []
  },
  {
   "cell_type": "code",
   "execution_count": null,
   "metadata": {},
   "outputs": [],
   "source": []
  },
  {
   "cell_type": "markdown",
   "metadata": {},
   "source": [
    "# Intersection "
   ]
  },
  {
   "cell_type": "code",
   "execution_count": 84,
   "metadata": {},
   "outputs": [],
   "source": [
    "def intersect_bed_gb(bed, gp, res):\n",
    "    ! overlapSelect -aggregate -statsOutputAll $bed $gp $res"
   ]
  },
  {
   "cell_type": "code",
   "execution_count": 86,
   "metadata": {},
   "outputs": [
    {
     "name": "stdout",
     "output_type": "stream",
     "text": [
      "Generating ../results/intersection/coding_overlap_chain_main.stat\n",
      "Done! \n",
      "\n",
      "Generating ../results/intersection/coding_overlap_chain_liftover.stat\n",
      "Done! \n",
      "\n",
      "Generating ../results/intersection/coding_overlap_chain_rbest.stat\n",
      "Done! \n",
      "\n",
      "Generating ../results/intersection/coding_overlap_chain_syn.stat\n",
      "Done! \n",
      "\n",
      "Generating ../results/intersection/NONcoding_overlap_chain_main.stat\n",
      "Done! \n",
      "\n",
      "Generating ../results/intersection/NONcoding_overlap_chain_liftover.stat\n",
      "Done! \n",
      "\n",
      "Generating ../results/intersection/NONcoding_overlap_chain_rbest.stat\n",
      "Done! \n",
      "\n",
      "Generating ../results/intersection/NONcoding_overlap_chain_syn.stat\n",
      "Done! \n",
      "\n"
     ]
    }
   ],
   "source": [
    "for ann in anns:\n",
    "    for chain in chains:\n",
    "        out_file = f'../results/intersection/{ann}_overlap_{chain}.stat'\n",
    "        print (f'Generating {out_file}')\n",
    "        intersect_bed_gb(chains[chain], anns[ann], out_file)\n",
    "        print ('Done! \\n')"
   ]
  },
  {
   "cell_type": "markdown",
   "metadata": {},
   "source": [
    "#### Analysis"
   ]
  },
  {
   "cell_type": "code",
   "execution_count": 87,
   "metadata": {},
   "outputs": [],
   "source": [
    "import pandas as pd\n",
    "import seaborn as sns"
   ]
  },
  {
   "cell_type": "code",
   "execution_count": 88,
   "metadata": {},
   "outputs": [
    {
     "data": {
      "text/plain": [
       "['../results/intersection/NONcoding_overlap_chain_liftover.stat',\n",
       " '../results/intersection/NONcoding_overlap_chain_main.stat',\n",
       " '../results/intersection/NONcoding_overlap_chain_rbest.stat',\n",
       " '../results/intersection/NONcoding_overlap_chain_syn.stat',\n",
       " '../results/intersection/coding_overlap_chain_liftover.stat',\n",
       " '../results/intersection/coding_overlap_chain_main.stat',\n",
       " '../results/intersection/coding_overlap_chain_rbest.stat',\n",
       " '../results/intersection/coding_overlap_chain_syn.stat']"
      ]
     },
     "execution_count": 88,
     "metadata": {},
     "output_type": "execute_result"
    }
   ],
   "source": [
    "overlaps = ! ls ../results/intersection/\n",
    "overlaps = ['../results/intersection/'+x for x in overlaps]\n",
    "overlaps"
   ]
  },
  {
   "cell_type": "code",
   "execution_count": 89,
   "metadata": {},
   "outputs": [],
   "source": [
    "def get_overlap_size(overlap_stats_path, only_overlapping = False):\n",
    "\n",
    "    df = pd.read_csv(overlap_stats_path, sep = '\\t')\n",
    "\n",
    "    if only_overlapping:\n",
    "        df = df[df.inOverBases > 0]\n",
    "    \n",
    "    ann_size = df.inBases.sum()\n",
    "    over_size = df.inOverBases.sum()\n",
    "    perc_overlap = round((over_size*100)/ann_size, 2)\n",
    "\n",
    "    return perc_overlap"
   ]
  },
  {
   "cell_type": "code",
   "execution_count": 90,
   "metadata": {},
   "outputs": [
    {
     "name": "stdout",
     "output_type": "stream",
     "text": [
      "NONcoding_overlap_chain_liftover.stat -> 98.94\n",
      "NONcoding_overlap_chain_main.stat -> 99.27\n",
      "NONcoding_overlap_chain_rbest.stat -> 98.45\n",
      "NONcoding_overlap_chain_syn.stat -> 96.06\n",
      "coding_overlap_chain_liftover.stat -> 99.39\n",
      "coding_overlap_chain_main.stat -> 99.75\n",
      "coding_overlap_chain_rbest.stat -> 99.18\n",
      "coding_overlap_chain_syn.stat -> 96.43\n"
     ]
    }
   ],
   "source": [
    "for o in overlaps:\n",
    "    p = get_overlap_size(o, only_overlapping = False)\n",
    "    sample_name = o.split('/')[-1]\n",
    "    print (f'{sample_name} -> {p}')"
   ]
  },
  {
   "cell_type": "code",
   "execution_count": 91,
   "metadata": {},
   "outputs": [
    {
     "name": "stdout",
     "output_type": "stream",
     "text": [
      "NONcoding_overlap_chain_liftover.stat -> 99.99\n",
      "NONcoding_overlap_chain_main.stat -> 99.99\n",
      "NONcoding_overlap_chain_rbest.stat -> 99.77\n",
      "NONcoding_overlap_chain_syn.stat -> 99.94\n",
      "coding_overlap_chain_liftover.stat -> 99.7\n",
      "coding_overlap_chain_main.stat -> 99.87\n",
      "coding_overlap_chain_rbest.stat -> 99.62\n",
      "coding_overlap_chain_syn.stat -> 99.84\n"
     ]
    }
   ],
   "source": [
    "for o in overlaps:\n",
    "    p = get_overlap_size(o, only_overlapping = True)\n",
    "    sample_name = o.split('/')[-1]\n",
    "    print (f'{sample_name} -> {p}')"
   ]
  },
  {
   "cell_type": "code",
   "execution_count": 92,
   "metadata": {},
   "outputs": [],
   "source": [
    "overlap_df = pd.DataFrame()\n",
    "\n",
    "for o in overlaps:\n",
    "    tmp_df = pd.read_csv(o, sep = '\\t')\n",
    "    sample_name = o.split('/')[-1].strip('.stat')\n",
    "    ann = sample_name.split('_')[0]\n",
    "    chain = sample_name.split('_')[-1]\n",
    "    tmp_df['sample_name'] = sample_name\n",
    "    tmp_df['ann'] = ann\n",
    "    tmp_df['chain'] = chain\n",
    "    \n",
    "    overlap_df = pd.concat([overlap_df, tmp_df])"
   ]
  },
  {
   "cell_type": "code",
   "execution_count": 93,
   "metadata": {},
   "outputs": [
    {
     "data": {
      "text/html": [
       "<div>\n",
       "<style scoped>\n",
       "    .dataframe tbody tr th:only-of-type {\n",
       "        vertical-align: middle;\n",
       "    }\n",
       "\n",
       "    .dataframe tbody tr th {\n",
       "        vertical-align: top;\n",
       "    }\n",
       "\n",
       "    .dataframe thead th {\n",
       "        text-align: right;\n",
       "    }\n",
       "</style>\n",
       "<table border=\"1\" class=\"dataframe\">\n",
       "  <thead>\n",
       "    <tr style=\"text-align: right;\">\n",
       "      <th></th>\n",
       "      <th>#inId</th>\n",
       "      <th>inOverlap</th>\n",
       "      <th>inOverBases</th>\n",
       "      <th>inBases</th>\n",
       "      <th>sample_name</th>\n",
       "      <th>ann</th>\n",
       "      <th>chain</th>\n",
       "    </tr>\n",
       "  </thead>\n",
       "  <tbody>\n",
       "    <tr>\n",
       "      <th>0</th>\n",
       "      <td>HEHEL1ncA003759T1</td>\n",
       "      <td>1.0</td>\n",
       "      <td>593</td>\n",
       "      <td>593</td>\n",
       "      <td>NONcoding_overlap_chain_liftover</td>\n",
       "      <td>NONcoding</td>\n",
       "      <td>liftover</td>\n",
       "    </tr>\n",
       "    <tr>\n",
       "      <th>1</th>\n",
       "      <td>HEHEL1ncA003760T1</td>\n",
       "      <td>1.0</td>\n",
       "      <td>813</td>\n",
       "      <td>813</td>\n",
       "      <td>NONcoding_overlap_chain_liftover</td>\n",
       "      <td>NONcoding</td>\n",
       "      <td>liftover</td>\n",
       "    </tr>\n",
       "    <tr>\n",
       "      <th>2</th>\n",
       "      <td>HEHEL1ncA003760T2</td>\n",
       "      <td>1.0</td>\n",
       "      <td>786</td>\n",
       "      <td>786</td>\n",
       "      <td>NONcoding_overlap_chain_liftover</td>\n",
       "      <td>NONcoding</td>\n",
       "      <td>liftover</td>\n",
       "    </tr>\n",
       "    <tr>\n",
       "      <th>3</th>\n",
       "      <td>HEHEL1ncA003761T1</td>\n",
       "      <td>1.0</td>\n",
       "      <td>1275</td>\n",
       "      <td>1275</td>\n",
       "      <td>NONcoding_overlap_chain_liftover</td>\n",
       "      <td>NONcoding</td>\n",
       "      <td>liftover</td>\n",
       "    </tr>\n",
       "    <tr>\n",
       "      <th>4</th>\n",
       "      <td>HEHEL1ncA003762T1</td>\n",
       "      <td>1.0</td>\n",
       "      <td>921</td>\n",
       "      <td>921</td>\n",
       "      <td>NONcoding_overlap_chain_liftover</td>\n",
       "      <td>NONcoding</td>\n",
       "      <td>liftover</td>\n",
       "    </tr>\n",
       "    <tr>\n",
       "      <th>...</th>\n",
       "      <td>...</td>\n",
       "      <td>...</td>\n",
       "      <td>...</td>\n",
       "      <td>...</td>\n",
       "      <td>...</td>\n",
       "      <td>...</td>\n",
       "      <td>...</td>\n",
       "    </tr>\n",
       "    <tr>\n",
       "      <th>22753</th>\n",
       "      <td>HEHEL1A010867T1</td>\n",
       "      <td>1.0</td>\n",
       "      <td>234</td>\n",
       "      <td>234</td>\n",
       "      <td>coding_overlap_chain_syn</td>\n",
       "      <td>coding</td>\n",
       "      <td>syn</td>\n",
       "    </tr>\n",
       "    <tr>\n",
       "      <th>22754</th>\n",
       "      <td>HEHEL1A006219T1</td>\n",
       "      <td>1.0</td>\n",
       "      <td>411</td>\n",
       "      <td>411</td>\n",
       "      <td>coding_overlap_chain_syn</td>\n",
       "      <td>coding</td>\n",
       "      <td>syn</td>\n",
       "    </tr>\n",
       "    <tr>\n",
       "      <th>22755</th>\n",
       "      <td>HEHEL1A012450T1</td>\n",
       "      <td>1.0</td>\n",
       "      <td>423</td>\n",
       "      <td>423</td>\n",
       "      <td>coding_overlap_chain_syn</td>\n",
       "      <td>coding</td>\n",
       "      <td>syn</td>\n",
       "    </tr>\n",
       "    <tr>\n",
       "      <th>22756</th>\n",
       "      <td>HEHEL1A003503T1</td>\n",
       "      <td>0.0</td>\n",
       "      <td>0</td>\n",
       "      <td>663</td>\n",
       "      <td>coding_overlap_chain_syn</td>\n",
       "      <td>coding</td>\n",
       "      <td>syn</td>\n",
       "    </tr>\n",
       "    <tr>\n",
       "      <th>22757</th>\n",
       "      <td>HEHEL1A008465T1</td>\n",
       "      <td>0.0</td>\n",
       "      <td>0</td>\n",
       "      <td>1490</td>\n",
       "      <td>coding_overlap_chain_syn</td>\n",
       "      <td>coding</td>\n",
       "      <td>syn</td>\n",
       "    </tr>\n",
       "  </tbody>\n",
       "</table>\n",
       "<p>108088 rows × 7 columns</p>\n",
       "</div>"
      ],
      "text/plain": [
       "                   #inId  inOverlap  inOverBases  inBases  \\\n",
       "0      HEHEL1ncA003759T1        1.0          593      593   \n",
       "1      HEHEL1ncA003760T1        1.0          813      813   \n",
       "2      HEHEL1ncA003760T2        1.0          786      786   \n",
       "3      HEHEL1ncA003761T1        1.0         1275     1275   \n",
       "4      HEHEL1ncA003762T1        1.0          921      921   \n",
       "...                  ...        ...          ...      ...   \n",
       "22753    HEHEL1A010867T1        1.0          234      234   \n",
       "22754    HEHEL1A006219T1        1.0          411      411   \n",
       "22755    HEHEL1A012450T1        1.0          423      423   \n",
       "22756    HEHEL1A003503T1        0.0            0      663   \n",
       "22757    HEHEL1A008465T1        0.0            0     1490   \n",
       "\n",
       "                            sample_name        ann     chain  \n",
       "0      NONcoding_overlap_chain_liftover  NONcoding  liftover  \n",
       "1      NONcoding_overlap_chain_liftover  NONcoding  liftover  \n",
       "2      NONcoding_overlap_chain_liftover  NONcoding  liftover  \n",
       "3      NONcoding_overlap_chain_liftover  NONcoding  liftover  \n",
       "4      NONcoding_overlap_chain_liftover  NONcoding  liftover  \n",
       "...                                 ...        ...       ...  \n",
       "22753          coding_overlap_chain_syn     coding       syn  \n",
       "22754          coding_overlap_chain_syn     coding       syn  \n",
       "22755          coding_overlap_chain_syn     coding       syn  \n",
       "22756          coding_overlap_chain_syn     coding       syn  \n",
       "22757          coding_overlap_chain_syn     coding       syn  \n",
       "\n",
       "[108088 rows x 7 columns]"
      ]
     },
     "execution_count": 93,
     "metadata": {},
     "output_type": "execute_result"
    }
   ],
   "source": [
    "overlap_df"
   ]
  },
  {
   "cell_type": "code",
   "execution_count": 94,
   "metadata": {},
   "outputs": [
    {
     "data": {
      "text/plain": [
       "<seaborn.axisgrid.FacetGrid at 0x16470b290>"
      ]
     },
     "execution_count": 94,
     "metadata": {},
     "output_type": "execute_result"
    },
    {
     "data": {
      "image/png": "[encoded data removed]",
      "text/plain": [
       "<Figure size 1099x500 with 2 Axes>"
      ]
     },
     "metadata": {},
     "output_type": "display_data"
    }
   ],
   "source": [
    "sns.catplot(data = overlap_df, x = 'inOverlap',hue = 'chain' ,col = 'ann', kind = 'violin')"
   ]
  }
 ],
 "metadata": {
  "kernelspec": {
   "display_name": "Python 3 (ipykernel)",
   "language": "python",
   "name": "python3"
  },
  "language_info": {
   "codemirror_mode": {
    "name": "ipython",
    "version": 3
   },
   "file_extension": ".py",
   "mimetype": "text/x-python",
   "name": "python",
   "nbconvert_exporter": "python",
   "pygments_lexer": "ipython3",
   "version": "3.12.2"
  }
 },
 "nbformat": 4,
 "nbformat_minor": 4
}
