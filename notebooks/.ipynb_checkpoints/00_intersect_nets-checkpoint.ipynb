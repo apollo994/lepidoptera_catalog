{
 "cells": [
  {
   "cell_type": "markdown",
   "id": "07870618-9180-4b85-a575-bd18383fe52c",
   "metadata": {
    "jp-MarkdownHeadingCollapsed": true
   },
   "source": [
    "### Goal\n",
    "- measure the intersection of coding and non coding genes with the nets alignment\n",
    "- measure the size of the nets alignment compared to Helleia helle genome size\n",
    "- test for significance of non coding element conservation "
   ]
  },
  {
   "cell_type": "markdown",
   "id": "9e0a52f7-9731-455d-9149-60e5e8914ee5",
   "metadata": {
    "jp-MarkdownHeadingCollapsed": true
   },
   "source": [
    "# Material"
   ]
  },
  {
   "cell_type": "code",
   "execution_count": 3,
   "id": "86d6831e-86f9-4f30-bf48-acc6d4980089",
   "metadata": {},
   "outputs": [
    {
     "name": "stdout",
     "output_type": "stream",
     "text": [
      "00_dw_nets.sh\n",
      "01_covert_bb_to_bed.sh\n",
      "02_merge_overlaps.sh\n",
      "GCA_963853865.1_ilHelHell1.1.GCA_963855885.1.net.bb\n",
      "GCA_963853865.1_ilHelHell1.1.GCA_963855885.1.net.bed\n",
      "GCA_963853865.1_ilHelHell1.1.GCA_963855885.1.net.merged.bed\n",
      "GCA_963853865.1_ilHelHell1.1.GCA_963855885.1.synNet.bb\n",
      "GCA_963853865.1_ilHelHell1.1.GCA_963855885.1.synNet.bed\n",
      "GCA_963853865.1_ilHelHell1.1.GCA_963855885.1.synNet.merged.bed\n"
     ]
    }
   ],
   "source": [
    "# chains were downloaded from ucsc, converted from bigBed to bed, and only the first three columns kept, and merged to avoid overlaps\n",
    "! ls ../data/bb_net/"
   ]
  },
  {
   "cell_type": "code",
   "execution_count": 9,
   "id": "670f4df5-5e3e-4738-a60a-f5b1c3c251dd",
   "metadata": {},
   "outputs": [],
   "source": [
    "nets = {\n",
    "    'net_main' : '../data/bb_net/GCA_963853865.1_ilHelHell1.1.GCA_963855885.1.net.merged.bed',\n",
    "    'net_syn' : '../data/bb_net/GCA_963853865.1_ilHelHell1.1.GCA_963855885.1.synNet.merged.bed'  \n",
    "}"
   ]
  },
  {
   "cell_type": "markdown",
   "id": "eca368b1-9880-4482-bf3e-6d472dd02568",
   "metadata": {},
   "source": [
    "#### Convert gtf to genepred"
   ]
  },
  {
   "cell_type": "code",
   "execution_count": 10,
   "id": "abfeaaa0-a1aa-4391-aadd-98e4c793b373",
   "metadata": {},
   "outputs": [],
   "source": [
    "alias = 'https://hgdownload.soe.ucsc.edu/hubs/GCA/963/853/865/GCA_963853865.1/GCA_963853865.1.chromAlias.txt'\n",
    "gtf_coding_ann = '../data/annotations/HEHEL1A.FA.gtf'\n",
    "gtf_coding_ann_gbnames = '../data/annotations/HEHEL1A.FA.gbnames.gtf'\n",
    "\n",
    "gtf_NONcoding_ann = '../data/annotations/HEHEL1ncA.gtf'\n",
    "gtf_NONcoding_ann_gbnames = '../data/annotations/HEHEL1ncA.gbnames.gtf'"
   ]
  },
  {
   "cell_type": "code",
   "execution_count": 11,
   "id": "3bc48f97-caac-4953-b7fc-978b55621503",
   "metadata": {},
   "outputs": [],
   "source": [
    "! chromToUcsc -a $alias -i $gtf_coding_ann  -o $gtf_coding_ann_gbnames\n",
    "! chromToUcsc -a $alias -i $gtf_NONcoding_ann  -o $gtf_NONcoding_ann_gbnames"
   ]
  },
  {
   "cell_type": "code",
   "execution_count": 14,
   "id": "f7eb167e-45fa-499d-8df2-2b4201d2045a",
   "metadata": {},
   "outputs": [],
   "source": [
    "gtf_coding_ann_gbnames = '../data/annotations/HEHEL1A.FA.gbnames.gtf'\n",
    "gtf_NONcoding_ann_gbnames = '../data/annotations/HEHEL1ncA.gbnames.gtf'\n",
    "\n",
    "genepred_coding = '../data/annotations/HEHEL1A.FA.gbnames.gp'\n",
    "genepred_NONcoding = '../data/annotations/HEHEL1ncA.gbnames.gp'"
   ]
  },
  {
   "cell_type": "code",
   "execution_count": 15,
   "id": "bfce5a61-864d-42a7-9b04-9429342c19dc",
   "metadata": {},
   "outputs": [],
   "source": [
    "! gtfToGenePred $gtf_coding_ann_gbnames $genepred_coding\n",
    "! gtfToGenePred $gtf_NONcoding_ann_gbnames $genepred_NONcoding"
   ]
  },
  {
   "cell_type": "code",
   "execution_count": 16,
   "id": "1029c1c0-2f3f-4c4a-8975-e8b8c78538e3",
   "metadata": {},
   "outputs": [
    {
     "name": "stdout",
     "output_type": "stream",
     "text": [
      "HEHEL1A.FA.gbnames.gp  HEHEL1ncA.gbnames.gp   test\n",
      "HEHEL1A.FA.gbnames.gtf HEHEL1ncA.gbnames.gtf\n",
      "HEHEL1A.FA.gtf         HEHEL1ncA.gtf\n"
     ]
    }
   ],
   "source": [
    "! ls ../data/annotations"
   ]
  },
  {
   "cell_type": "code",
   "execution_count": 15,
   "id": "772f95dd-37d8-47c6-947a-1352f2ecb30e",
   "metadata": {},
   "outputs": [],
   "source": [
    "anns = {\n",
    "    'coding' : '../data/annotations/HEHEL1A.FA.gbnames.gp',\n",
    "    'NONcoding' : '../data/annotations/HEHEL1ncA.gbnames.gp'\n",
    "}"
   ]
  },
  {
   "cell_type": "markdown",
   "id": "23cb7aca-2418-48b8-ac84-9aa54f0c9031",
   "metadata": {},
   "source": [
    "# Net size"
   ]
  },
  {
   "cell_type": "code",
   "execution_count": 5,
   "id": "d9e66539-7e23-4d7c-82df-2ed39df15ffd",
   "metadata": {},
   "outputs": [],
   "source": [
    "import pyranges as pr"
   ]
  },
  {
   "cell_type": "code",
   "execution_count": 39,
   "id": "8e9cc8ab-c178-42e3-8f2c-1fc40c65b8ec",
   "metadata": {},
   "outputs": [
    {
     "data": {
      "text/plain": [
       "547321747"
      ]
     },
     "execution_count": 39,
     "metadata": {},
     "output_type": "execute_result"
    }
   ],
   "source": [
    "genome_size = pd.read_csv('https://hgdownload.soe.ucsc.edu/hubs/GCA/963/853/865/GCA_963853865.1/GCA_963853865.1.chrom.sizes.txt', sep = '\\t', header = None)\n",
    "genome_size = genome_size[1].sum()\n",
    "genome_size"
   ]
  },
  {
   "cell_type": "code",
   "execution_count": 7,
   "id": "2a36376a-6e53-4b91-a175-2f953086f243",
   "metadata": {},
   "outputs": [
    {
     "data": {
      "text/plain": [
       "{'net_main': 'GCA_963853865.1_ilHelHell1.1.GCA_963855885.1.net.merged.bed',\n",
       " 'net_syn': 'GCA_963853865.1_ilHelHell1.1.GCA_963855885.1.synNet.merged.bed'}"
      ]
     },
     "execution_count": 7,
     "metadata": {},
     "output_type": "execute_result"
    }
   ],
   "source": [
    "nets"
   ]
  },
  {
   "cell_type": "code",
   "execution_count": 42,
   "id": "9cb5e8ab-ae90-40bd-9986-7192be071d2b",
   "metadata": {},
   "outputs": [
    {
     "name": "stderr",
     "output_type": "stream",
     "text": [
      "/opt/homebrew/Caskroom/miniconda/base/lib/python3.12/site-packages/pyranges/methods/init.py:45: FutureWarning: The default of observed=False is deprecated and will be changed to True in a future version of pandas. Pass observed=False to retain current behavior or observed=True to adopt the future default and silence this warning.\n",
      "  return {k: v for k, v in df.groupby(grpby_key)}\n",
      "/opt/homebrew/Caskroom/miniconda/base/lib/python3.12/site-packages/pyranges/methods/init.py:45: FutureWarning: The default of observed=False is deprecated and will be changed to True in a future version of pandas. Pass observed=False to retain current behavior or observed=True to adopt the future default and silence this warning.\n",
      "  return {k: v for k, v in df.groupby(grpby_key)}\n"
     ]
    }
   ],
   "source": [
    "net_dic = {}\n",
    "\n",
    "for net in nets:\n",
    "    gr = pr.read_bed(nets[net])\n",
    "    total_size = (gr.End - gr.Start).sum()\n",
    "\n",
    "    net_dic[net] = {'size' : total_size,\n",
    "                    'genome_perc' : round((total_size*100)/genome_size, 2)}"
   ]
  },
  {
   "cell_type": "code",
   "execution_count": 43,
   "id": "951635e5-9e6f-4698-93c1-1953ddcf018f",
   "metadata": {},
   "outputs": [
    {
     "data": {
      "text/plain": [
       "{'net_main': {'size': 73935348, 'genome_perc': 13.51},\n",
       " 'net_syn': {'size': 34773926, 'genome_perc': 6.35}}"
      ]
     },
     "execution_count": 43,
     "metadata": {},
     "output_type": "execute_result"
    }
   ],
   "source": [
    "net_dic"
   ]
  },
  {
   "cell_type": "markdown",
   "id": "3bf1bb48-a4c8-49c9-b6d1-ecfcb6488137",
   "metadata": {},
   "source": [
    "# Intersection "
   ]
  },
  {
   "cell_type": "code",
   "execution_count": 13,
   "id": "633eb4be-fd88-4c25-a331-960a95ee2bc2",
   "metadata": {},
   "outputs": [],
   "source": [
    "! mkdir ../results/ann_net_intersection"
   ]
  },
  {
   "cell_type": "code",
   "execution_count": 12,
   "id": "6ff1e690-413d-4d77-b1f1-e39d0d2132b2",
   "metadata": {},
   "outputs": [],
   "source": [
    "def intersect_bed_gb(bed, gp, res):\n",
    "    ! overlapSelect -aggregate -statsOutputAll $bed $gp $res"
   ]
  },
  {
   "cell_type": "code",
   "execution_count": 17,
   "id": "1c9df8e9-3eee-4402-9a65-4fcfbb4880ae",
   "metadata": {},
   "outputs": [
    {
     "name": "stdout",
     "output_type": "stream",
     "text": [
      "Generating ../results/ann_net_intersection/coding_overlap_net_main.stat\n",
      "Done! \n",
      "\n",
      "Generating ../results/ann_net_intersection/coding_overlap_net_syn.stat\n",
      "Done! \n",
      "\n",
      "Generating ../results/ann_net_intersection/NONcoding_overlap_net_main.stat\n",
      "Done! \n",
      "\n",
      "Generating ../results/ann_net_intersection/NONcoding_overlap_net_syn.stat\n",
      "Done! \n",
      "\n"
     ]
    }
   ],
   "source": [
    "for ann in anns:\n",
    "    for net in nets:\n",
    "        out_file = f'../results/ann_net_intersection/{ann}_overlap_{net}.stat'\n",
    "        print (f'Generating {out_file}')\n",
    "        intersect_bed_gb(nets[net], anns[ann], out_file)\n",
    "        print ('Done! \\n')"
   ]
  },
  {
   "cell_type": "markdown",
   "id": "9869fc8c-317c-48aa-954e-cb0fd6946d29",
   "metadata": {},
   "source": [
    "#### Analysis"
   ]
  },
  {
   "cell_type": "code",
   "execution_count": 55,
   "id": "6782377e-8cea-40c6-8b31-a56786ce8b85",
   "metadata": {},
   "outputs": [],
   "source": [
    "import pandas as pd\n",
    "import seaborn as sns\n",
    "import matplotlib.pyplot as plt"
   ]
  },
  {
   "cell_type": "code",
   "execution_count": 20,
   "id": "01c13c3f-2dc6-4112-93f0-3d78369f1edb",
   "metadata": {},
   "outputs": [
    {
     "data": {
      "text/plain": [
       "['../results/ann_net_intersection/NONcoding_overlap_net_main.stat',\n",
       " '../results/ann_net_intersection/NONcoding_overlap_net_syn.stat',\n",
       " '../results/ann_net_intersection/coding_overlap_net_main.stat',\n",
       " '../results/ann_net_intersection/coding_overlap_net_syn.stat']"
      ]
     },
     "execution_count": 20,
     "metadata": {},
     "output_type": "execute_result"
    }
   ],
   "source": [
    "overlaps = ! ls ../results/ann_net_intersection/\n",
    "overlaps = ['../results/ann_net_intersection/'+x for x in overlaps]\n",
    "overlaps"
   ]
  },
  {
   "cell_type": "code",
   "execution_count": 51,
   "id": "f15f8a37-9e9c-44dd-b0f2-d0da2846e238",
   "metadata": {},
   "outputs": [
    {
     "name": "stdout",
     "output_type": "stream",
     "text": [
      "3411674\n",
      "39734665\n"
     ]
    }
   ],
   "source": [
    "NONcoding_size = pd.read_csv('../results/ann_net_intersection/NONcoding_overlap_net_main.stat', sep = '\\t').inBases.sum()\n",
    "coding_size = pd.read_csv('../results/ann_net_intersection/coding_overlap_net_main.stat', sep = '\\t').inBases.sum()\n",
    "\n",
    "print (NONcoding_size)\n",
    "print (coding_size)"
   ]
  },
  {
   "cell_type": "code",
   "execution_count": 21,
   "id": "a24a160d-0ab1-403c-a3e1-f257ec95c8c6",
   "metadata": {},
   "outputs": [],
   "source": [
    "def get_overlap_size(overlap_stats_path, only_overlapping = False):\n",
    "\n",
    "    df = pd.read_csv(overlap_stats_path, sep = '\\t')\n",
    "\n",
    "    if only_overlapping:\n",
    "        df = df[df.inOverBases > 0]\n",
    "    \n",
    "    ann_size = df.inBases.sum()\n",
    "    over_size = df.inOverBases.sum()\n",
    "    perc_overlap = round((over_size*100)/ann_size, 2)\n",
    "\n",
    "    return perc_overlap"
   ]
  },
  {
   "cell_type": "code",
   "execution_count": 22,
   "id": "33543705-eb7d-4338-8a5f-8712cbacf76e",
   "metadata": {},
   "outputs": [
    {
     "name": "stdout",
     "output_type": "stream",
     "text": [
      "NONcoding_overlap_net_main.stat -> 17.23\n",
      "NONcoding_overlap_net_syn.stat -> 10.88\n",
      "coding_overlap_net_main.stat -> 63.84\n",
      "coding_overlap_net_syn.stat -> 55.11\n"
     ]
    }
   ],
   "source": [
    "for o in overlaps:\n",
    "    p = get_overlap_size(o, only_overlapping = False)\n",
    "    sample_name = o.split('/')[-1]\n",
    "    print (f'{sample_name} -> {p}')"
   ]
  },
  {
   "cell_type": "code",
   "execution_count": 23,
   "id": "21b2872d-3cc6-4b23-8846-4d99f368e6d5",
   "metadata": {},
   "outputs": [
    {
     "name": "stdout",
     "output_type": "stream",
     "text": [
      "NONcoding_overlap_net_main.stat -> 42.87\n",
      "NONcoding_overlap_net_syn.stat -> 42.03\n",
      "coding_overlap_net_main.stat -> 68.94\n",
      "coding_overlap_net_syn.stat -> 68.89\n"
     ]
    }
   ],
   "source": [
    "for o in overlaps:\n",
    "    p = get_overlap_size(o, only_overlapping = True)\n",
    "    sample_name = o.split('/')[-1]\n",
    "    print (f'{sample_name} -> {p}')"
   ]
  },
  {
   "cell_type": "code",
   "execution_count": 24,
   "id": "d99e6322-186d-4d8e-a140-71fcec06876b",
   "metadata": {},
   "outputs": [],
   "source": [
    "overlap_df = pd.DataFrame()\n",
    "\n",
    "for o in overlaps:\n",
    "    tmp_df = pd.read_csv(o, sep = '\\t')\n",
    "    sample_name = o.split('/')[-1].strip('.stat')\n",
    "    ann = sample_name.split('_')[0]\n",
    "    chain = sample_name.split('_')[-1]\n",
    "    tmp_df['sample_name'] = sample_name\n",
    "    tmp_df['ann'] = ann\n",
    "    tmp_df['chain'] = chain\n",
    "    \n",
    "    overlap_df = pd.concat([overlap_df, tmp_df])"
   ]
  },
  {
   "cell_type": "code",
   "execution_count": 25,
   "id": "155b0913-7f2e-4aa7-aa99-02b669087e37",
   "metadata": {},
   "outputs": [
    {
     "data": {
      "text/html": [
       "<div>\n",
       "<style scoped>\n",
       "    .dataframe tbody tr th:only-of-type {\n",
       "        vertical-align: middle;\n",
       "    }\n",
       "\n",
       "    .dataframe tbody tr th {\n",
       "        vertical-align: top;\n",
       "    }\n",
       "\n",
       "    .dataframe thead th {\n",
       "        text-align: right;\n",
       "    }\n",
       "</style>\n",
       "<table border=\"1\" class=\"dataframe\">\n",
       "  <thead>\n",
       "    <tr style=\"text-align: right;\">\n",
       "      <th></th>\n",
       "      <th>#inId</th>\n",
       "      <th>inOverlap</th>\n",
       "      <th>inOverBases</th>\n",
       "      <th>inBases</th>\n",
       "      <th>sample_name</th>\n",
       "      <th>ann</th>\n",
       "      <th>chain</th>\n",
       "    </tr>\n",
       "  </thead>\n",
       "  <tbody>\n",
       "    <tr>\n",
       "      <th>0</th>\n",
       "      <td>HEHEL1ncA003759T1</td>\n",
       "      <td>0.997</td>\n",
       "      <td>591</td>\n",
       "      <td>593</td>\n",
       "      <td>NONcoding_overlap_net_main</td>\n",
       "      <td>NONcoding</td>\n",
       "      <td>main</td>\n",
       "    </tr>\n",
       "    <tr>\n",
       "      <th>1</th>\n",
       "      <td>HEHEL1ncA003760T1</td>\n",
       "      <td>0.727</td>\n",
       "      <td>591</td>\n",
       "      <td>813</td>\n",
       "      <td>NONcoding_overlap_net_main</td>\n",
       "      <td>NONcoding</td>\n",
       "      <td>main</td>\n",
       "    </tr>\n",
       "    <tr>\n",
       "      <th>2</th>\n",
       "      <td>HEHEL1ncA003760T2</td>\n",
       "      <td>0.752</td>\n",
       "      <td>591</td>\n",
       "      <td>786</td>\n",
       "      <td>NONcoding_overlap_net_main</td>\n",
       "      <td>NONcoding</td>\n",
       "      <td>main</td>\n",
       "    </tr>\n",
       "    <tr>\n",
       "      <th>3</th>\n",
       "      <td>HEHEL1ncA003761T1</td>\n",
       "      <td>0.000</td>\n",
       "      <td>0</td>\n",
       "      <td>1275</td>\n",
       "      <td>NONcoding_overlap_net_main</td>\n",
       "      <td>NONcoding</td>\n",
       "      <td>main</td>\n",
       "    </tr>\n",
       "    <tr>\n",
       "      <th>4</th>\n",
       "      <td>HEHEL1ncA003762T1</td>\n",
       "      <td>0.998</td>\n",
       "      <td>919</td>\n",
       "      <td>921</td>\n",
       "      <td>NONcoding_overlap_net_main</td>\n",
       "      <td>NONcoding</td>\n",
       "      <td>main</td>\n",
       "    </tr>\n",
       "    <tr>\n",
       "      <th>...</th>\n",
       "      <td>...</td>\n",
       "      <td>...</td>\n",
       "      <td>...</td>\n",
       "      <td>...</td>\n",
       "      <td>...</td>\n",
       "      <td>...</td>\n",
       "      <td>...</td>\n",
       "    </tr>\n",
       "    <tr>\n",
       "      <th>22753</th>\n",
       "      <td>HEHEL1A010867T1</td>\n",
       "      <td>0.000</td>\n",
       "      <td>0</td>\n",
       "      <td>234</td>\n",
       "      <td>coding_overlap_net_syn</td>\n",
       "      <td>coding</td>\n",
       "      <td>syn</td>\n",
       "    </tr>\n",
       "    <tr>\n",
       "      <th>22754</th>\n",
       "      <td>HEHEL1A006219T1</td>\n",
       "      <td>0.000</td>\n",
       "      <td>0</td>\n",
       "      <td>411</td>\n",
       "      <td>coding_overlap_net_syn</td>\n",
       "      <td>coding</td>\n",
       "      <td>syn</td>\n",
       "    </tr>\n",
       "    <tr>\n",
       "      <th>22755</th>\n",
       "      <td>HEHEL1A012450T1</td>\n",
       "      <td>0.000</td>\n",
       "      <td>0</td>\n",
       "      <td>423</td>\n",
       "      <td>coding_overlap_net_syn</td>\n",
       "      <td>coding</td>\n",
       "      <td>syn</td>\n",
       "    </tr>\n",
       "    <tr>\n",
       "      <th>22756</th>\n",
       "      <td>HEHEL1A003503T1</td>\n",
       "      <td>0.000</td>\n",
       "      <td>0</td>\n",
       "      <td>663</td>\n",
       "      <td>coding_overlap_net_syn</td>\n",
       "      <td>coding</td>\n",
       "      <td>syn</td>\n",
       "    </tr>\n",
       "    <tr>\n",
       "      <th>22757</th>\n",
       "      <td>HEHEL1A008465T1</td>\n",
       "      <td>0.000</td>\n",
       "      <td>0</td>\n",
       "      <td>1490</td>\n",
       "      <td>coding_overlap_net_syn</td>\n",
       "      <td>coding</td>\n",
       "      <td>syn</td>\n",
       "    </tr>\n",
       "  </tbody>\n",
       "</table>\n",
       "<p>54044 rows × 7 columns</p>\n",
       "</div>"
      ],
      "text/plain": [
       "                   #inId  inOverlap  inOverBases  inBases  \\\n",
       "0      HEHEL1ncA003759T1      0.997          591      593   \n",
       "1      HEHEL1ncA003760T1      0.727          591      813   \n",
       "2      HEHEL1ncA003760T2      0.752          591      786   \n",
       "3      HEHEL1ncA003761T1      0.000            0     1275   \n",
       "4      HEHEL1ncA003762T1      0.998          919      921   \n",
       "...                  ...        ...          ...      ...   \n",
       "22753    HEHEL1A010867T1      0.000            0      234   \n",
       "22754    HEHEL1A006219T1      0.000            0      411   \n",
       "22755    HEHEL1A012450T1      0.000            0      423   \n",
       "22756    HEHEL1A003503T1      0.000            0      663   \n",
       "22757    HEHEL1A008465T1      0.000            0     1490   \n",
       "\n",
       "                      sample_name        ann chain  \n",
       "0      NONcoding_overlap_net_main  NONcoding  main  \n",
       "1      NONcoding_overlap_net_main  NONcoding  main  \n",
       "2      NONcoding_overlap_net_main  NONcoding  main  \n",
       "3      NONcoding_overlap_net_main  NONcoding  main  \n",
       "4      NONcoding_overlap_net_main  NONcoding  main  \n",
       "...                           ...        ...   ...  \n",
       "22753      coding_overlap_net_syn     coding   syn  \n",
       "22754      coding_overlap_net_syn     coding   syn  \n",
       "22755      coding_overlap_net_syn     coding   syn  \n",
       "22756      coding_overlap_net_syn     coding   syn  \n",
       "22757      coding_overlap_net_syn     coding   syn  \n",
       "\n",
       "[54044 rows x 7 columns]"
      ]
     },
     "execution_count": 25,
     "metadata": {},
     "output_type": "execute_result"
    }
   ],
   "source": [
    "overlap_df"
   ]
  },
  {
   "cell_type": "code",
   "execution_count": 65,
   "id": "3f02e225-f87e-4624-bb9a-20b78d052083",
   "metadata": {},
   "outputs": [
    {
     "data": {
      "text/plain": [
       "Text(0.5, 0.98, '% overlap ann/net')"
      ]
     },
     "execution_count": 65,
     "metadata": {},
     "output_type": "execute_result"
    },
    {
     "data": {
      "image/png": "[encoded data removed]",
      "text/plain": [
       "<Figure size 1084.75x500 with 2 Axes>"
      ]
     },
     "metadata": {},
     "output_type": "display_data"
    }
   ],
   "source": [
    "a = sns.catplot(data = overlap_df, x = 'inOverlap',hue = 'chain' ,col = 'ann', kind = 'violin')\n",
    "a.fig.subplots_adjust(top=0.85)\n",
    "a.fig.suptitle('% overlap ann/net')"
   ]
  },
  {
   "cell_type": "code",
   "execution_count": 64,
   "id": "1dde8f7e-bf3b-4a45-bb0f-a26ee695b956",
   "metadata": {},
   "outputs": [
    {
     "data": {
      "text/plain": [
       "Text(0.5, 0.98, '% overlap ann/net excluding zeros')"
      ]
     },
     "execution_count": 64,
     "metadata": {},
     "output_type": "execute_result"
    },
    {
     "data": {
      "image/png": "[encoded data removed]",
      "text/plain": [
       "<Figure size 1084.75x500 with 2 Axes>"
      ]
     },
     "metadata": {},
     "output_type": "display_data"
    }
   ],
   "source": [
    "# plt.title('% overlap excluding zeros')\n",
    "a = sns.catplot(data = overlap_df[overlap_df.inOverlap > 0], x = 'inOverlap',hue = 'chain' ,col = 'ann', kind = 'violin')\n",
    "a.fig.subplots_adjust(top=0.85)\n",
    "a.fig.suptitle('% overlap ann/net excluding zeros')"
   ]
  },
  {
   "cell_type": "markdown",
   "id": "5c37dccd-372f-441b-853d-763278ec84fc",
   "metadata": {},
   "source": [
    "# Test significance of enrichment"
   ]
  },
  {
   "cell_type": "code",
   "execution_count": 66,
   "id": "280e553b-495e-4ea7-ac96-767f5492e648",
   "metadata": {},
   "outputs": [
    {
     "data": {
      "text/plain": [
       "547321747"
      ]
     },
     "execution_count": 66,
     "metadata": {},
     "output_type": "execute_result"
    }
   ],
   "source": [
    "genome_size"
   ]
  },
  {
   "cell_type": "code",
   "execution_count": 67,
   "id": "50aea47d-fcda-4f56-a838-d70ace111b29",
   "metadata": {},
   "outputs": [
    {
     "data": {
      "text/plain": [
       "3411674"
      ]
     },
     "execution_count": 67,
     "metadata": {},
     "output_type": "execute_result"
    }
   ],
   "source": [
    "NONcoding_size"
   ]
  },
  {
   "cell_type": "code",
   "execution_count": 69,
   "id": "4ba421e7-ab73-441b-b6d3-dbab75014a51",
   "metadata": {},
   "outputs": [
    {
     "data": {
      "text/plain": [
       "17.23"
      ]
     },
     "execution_count": 69,
     "metadata": {},
     "output_type": "execute_result"
    }
   ],
   "source": [
    "get_overlap_size('../results/ann_net_intersection/NONcoding_overlap_net_main.stat')"
   ]
  },
  {
   "cell_type": "code",
   "execution_count": null,
   "id": "46916b89-1d8e-4b3f-a94f-bd02af28b0dd",
   "metadata": {},
   "outputs": [],
   "source": []
  }
 ],
 "metadata": {
  "kernelspec": {
   "display_name": "Python 3 (ipykernel)",
   "language": "python",
   "name": "python3"
  },
  "language_info": {
   "codemirror_mode": {
    "name": "ipython",
    "version": 3
   },
   "file_extension": ".py",
   "mimetype": "text/x-python",
   "name": "python",
   "nbconvert_exporter": "python",
   "pygments_lexer": "ipython3",
   "version": "3.12.2"
  }
 },
 "nbformat": 4,
 "nbformat_minor": 5
}
